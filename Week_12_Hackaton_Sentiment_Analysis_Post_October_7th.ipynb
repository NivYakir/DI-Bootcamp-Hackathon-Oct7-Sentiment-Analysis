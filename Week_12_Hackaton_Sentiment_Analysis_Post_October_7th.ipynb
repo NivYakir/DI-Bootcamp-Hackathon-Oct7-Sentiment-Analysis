{
  "cells": [
    {
      "cell_type": "markdown",
      "metadata": {
        "id": "4OKE9mtaMO5Z"
      },
      "source": [
        "## Data collection and loading dataset\n",
        "\n",
        "We used the following tool to extract all comments from the \"worldnews\" subreddit and using AI we extracted the first 1000 comments for each of the data ranges we want to analyze that have one of the following keywords: \"israel\", \"idf\", \"netanyahu\"\n",
        "\n",
        "**Data Ranges:**\n",
        "- Before - 2023-09-21 / 2023-10-6\n",
        "- During - 2023-10-7 / 2023-10-10\n",
        "- After - 2024-04-7 / 2024-04-21\n",
        "\n",
        "The data ranges vary on time as there were millions of comments the tool extracted making the files too large for certain dates"
      ]
    },
    {
      "cell_type": "code",
      "execution_count": 16,
      "metadata": {
        "colab": {
          "base_uri": "https://localhost:8080/",
          "height": 411
        },
        "id": "mfk7iecIPY-0",
        "outputId": "b183b48a-7fc5-4dfb-c033-71c73c54bada"
      },
      "outputs": [],
      "source": [
        "import pandas as pd\n",
        "\n",
        "# Load json files as DataFrames for different time ranges\n",
        "df_before = pd.read_json(r'data\\comments_before_oct7.jsonl', lines=True)\n",
        "df_during = pd.read_json(r'data\\comments_during_oct7.jsonl', lines=True)\n",
        "df_after = pd.read_json(r'data\\comments_after_oct7.jsonl', lines=True)\n",
        "\n",
        "# Concatenate all data into one DataFrame\n",
        "df = pd.concat([df_before, df_during, df_after], ignore_index=True)"
      ]
    },
    {
      "cell_type": "code",
      "execution_count": 17,
      "metadata": {
        "colab": {
          "base_uri": "https://localhost:8080/"
        },
        "id": "cRuOf4hWbh8d",
        "outputId": "f24189a0-92ff-4423-ef8a-44ef6a988938"
      },
      "outputs": [
        {
          "name": "stdout",
          "output_type": "stream",
          "text": [
            "Shape: (3000, 72)\n",
            "=========================\n",
            "\n",
            "                              _meta all_awardings  approved_at_utc  \\\n",
            "0  {'retrieved_2nd_on': 1703275026}            []              NaN   \n",
            "1  {'retrieved_2nd_on': 1703275262}            []              NaN   \n",
            "2  {'retrieved_2nd_on': 1703275301}            []              NaN   \n",
            "3  {'retrieved_2nd_on': 1703275934}            []              NaN   \n",
            "4  {'retrieved_2nd_on': 1703276762}            []              NaN   \n",
            "\n",
            "   approved_by  archived  associated_award              author  \\\n",
            "0          NaN     False               NaN          chrisjinna   \n",
            "1          NaN     False               NaN       ToastedPerson   \n",
            "2          NaN     False               NaN        bobdob123usa   \n",
            "3          NaN     False               NaN       FYoCouchEddie   \n",
            "4          NaN     False               NaN  preemptivePacifist   \n",
            "\n",
            "  author_flair_background_color  author_flair_css_class author_flair_richtext  \\\n",
            "0                          None                     NaN                    []   \n",
            "1                          None                     NaN                    []   \n",
            "2                          None                     NaN                    []   \n",
            "3                          None                     NaN                    []   \n",
            "4                          None                     NaN                    []   \n",
            "\n",
            "   ... subreddit_name_prefixed subreddit_type top_awarded_type  \\\n",
            "0  ...             r/worldnews         public              NaN   \n",
            "1  ...             r/worldnews         public              NaN   \n",
            "2  ...             r/worldnews         public              NaN   \n",
            "3  ...             r/worldnews         public              NaN   \n",
            "4  ...             r/worldnews         public              NaN   \n",
            "\n",
            "  total_awards_received treatment_tags  unrepliable_reason ups user_reports  \\\n",
            "0                     0             []                 NaN  -2           []   \n",
            "1                     0             []                 NaN   0           []   \n",
            "2                     0             []                 NaN   0           []   \n",
            "3                     0             []                 NaN   1           []   \n",
            "4                     0             []                 NaN   1           []   \n",
            "\n",
            "  editable  author_cakeday  \n",
            "0      NaN             NaN  \n",
            "1      NaN             NaN  \n",
            "2      NaN             NaN  \n",
            "3      NaN             NaN  \n",
            "4      NaN             NaN  \n",
            "\n",
            "[5 rows x 72 columns]\n",
            "=========================\n",
            "<class 'pandas.core.frame.DataFrame'>\n",
            "RangeIndex: 3000 entries, 0 to 2999\n",
            "Data columns (total 72 columns):\n",
            " #   Column                           Non-Null Count  Dtype  \n",
            "---  ------                           --------------  -----  \n",
            " 0   _meta                            3000 non-null   object \n",
            " 1   all_awardings                    3000 non-null   object \n",
            " 2   approved_at_utc                  0 non-null      float64\n",
            " 3   approved_by                      0 non-null      float64\n",
            " 4   archived                         3000 non-null   bool   \n",
            " 5   associated_award                 0 non-null      float64\n",
            " 6   author                           3000 non-null   object \n",
            " 7   author_flair_background_color    23 non-null     object \n",
            " 8   author_flair_css_class           0 non-null      float64\n",
            " 9   author_flair_richtext            2999 non-null   object \n",
            " 10  author_flair_template_id         2 non-null      object \n",
            " 11  author_flair_text                2 non-null      object \n",
            " 12  author_flair_text_color          317 non-null    object \n",
            " 13  author_flair_type                2999 non-null   object \n",
            " 14  author_fullname                  2999 non-null   object \n",
            " 15  author_is_blocked                3000 non-null   bool   \n",
            " 16  author_patreon_flair             2999 non-null   object \n",
            " 17  author_premium                   2999 non-null   object \n",
            " 18  awarders                         3000 non-null   object \n",
            " 19  banned_at_utc                    0 non-null      float64\n",
            " 20  banned_by                        0 non-null      float64\n",
            " 21  body                             3000 non-null   object \n",
            " 22  can_gild                         3000 non-null   bool   \n",
            " 23  can_mod_post                     3000 non-null   bool   \n",
            " 24  collapsed                        3000 non-null   bool   \n",
            " 25  collapsed_because_crowd_control  0 non-null      float64\n",
            " 26  collapsed_reason                 2 non-null      object \n",
            " 27  collapsed_reason_code            23 non-null     object \n",
            " 28  comment_type                     0 non-null      float64\n",
            " 29  controversiality                 3000 non-null   int64  \n",
            " 30  created                          3000 non-null   int64  \n",
            " 31  created_utc                      3000 non-null   int64  \n",
            " 32  distinguished                    0 non-null      float64\n",
            " 33  downs                            3000 non-null   int64  \n",
            " 34  edited                           3000 non-null   int64  \n",
            " 35  gilded                           3000 non-null   int64  \n",
            " 36  gildings                         3000 non-null   object \n",
            " 37  id                               3000 non-null   object \n",
            " 38  is_submitter                     3000 non-null   bool   \n",
            " 39  likes                            0 non-null      float64\n",
            " 40  link_id                          3000 non-null   object \n",
            " 41  locked                           3000 non-null   bool   \n",
            " 42  mod_note                         0 non-null      float64\n",
            " 43  mod_reason_by                    0 non-null      float64\n",
            " 44  mod_reason_title                 0 non-null      float64\n",
            " 45  mod_reports                      3000 non-null   object \n",
            " 46  name                             3000 non-null   object \n",
            " 47  no_follow                        3000 non-null   bool   \n",
            " 48  num_reports                      2000 non-null   float64\n",
            " 49  parent_id                        3000 non-null   object \n",
            " 50  permalink                        3000 non-null   object \n",
            " 51  removal_reason                   0 non-null      float64\n",
            " 52  replies                          3000 non-null   object \n",
            " 53  report_reasons                   2000 non-null   object \n",
            " 54  retrieved_on                     3000 non-null   int64  \n",
            " 55  saved                            3000 non-null   bool   \n",
            " 56  score                            3000 non-null   int64  \n",
            " 57  score_hidden                     3000 non-null   bool   \n",
            " 58  send_replies                     3000 non-null   bool   \n",
            " 59  stickied                         3000 non-null   bool   \n",
            " 60  subreddit                        3000 non-null   object \n",
            " 61  subreddit_id                     3000 non-null   object \n",
            " 62  subreddit_name_prefixed          3000 non-null   object \n",
            " 63  subreddit_type                   3000 non-null   object \n",
            " 64  top_awarded_type                 0 non-null      float64\n",
            " 65  total_awards_received            3000 non-null   int64  \n",
            " 66  treatment_tags                   3000 non-null   object \n",
            " 67  unrepliable_reason               0 non-null      float64\n",
            " 68  ups                              3000 non-null   int64  \n",
            " 69  user_reports                     3000 non-null   object \n",
            " 70  editable                         23 non-null     float64\n",
            " 71  author_cakeday                   17 non-null     float64\n",
            "dtypes: bool(12), float64(19), int64(10), object(31)\n",
            "memory usage: 1.4+ MB\n",
            "\n",
            "None\n"
          ]
        }
      ],
      "source": [
        "# Basic Exploration of the DataFrame\n",
        "\n",
        "print(\"Shape:\", df.shape)\n",
        "print(\"=\"*25)\n",
        "print(f\"\\n{df.head()}\")\n",
        "print(\"=\"*25)\n",
        "print(f\"\\n{df.info()}\")"
      ]
    },
    {
      "cell_type": "markdown",
      "metadata": {
        "id": "V2rhNWovSW-s"
      },
      "source": [
        "## Data Preprocessing"
      ]
    },
    {
      "cell_type": "code",
      "execution_count": 18,
      "metadata": {
        "id": "CviSORrQbmmx"
      },
      "outputs": [],
      "source": [
        "# Leave relevant columns only\n",
        "df = df[['created', 'body', 'score']]"
      ]
    },
    {
      "cell_type": "code",
      "execution_count": 19,
      "metadata": {
        "colab": {
          "base_uri": "https://localhost:8080/",
          "height": 458
        },
        "id": "H81LWiCpc77p",
        "outputId": "d04d7c4b-5de6-4c9e-fbbc-01647928dc0f"
      },
      "outputs": [
        {
          "data": {
            "text/plain": [
              "0      2023-09-22 00:01:57\n",
              "1      2023-09-22 00:07:52\n",
              "2      2023-09-22 00:08:53\n",
              "3      2023-09-22 00:25:11\n",
              "4      2023-09-22 00:46:38\n",
              "               ...        \n",
              "2995   2024-04-07 18:01:27\n",
              "2996   2024-04-07 18:02:04\n",
              "2997   2024-04-07 18:03:28\n",
              "2998   2024-04-07 18:03:30\n",
              "2999   2024-04-07 18:04:15\n",
              "Name: created, Length: 3000, dtype: datetime64[ns]"
            ]
          },
          "execution_count": 19,
          "metadata": {},
          "output_type": "execute_result"
        }
      ],
      "source": [
        "# Transform created from unix epoch to timestamp\n",
        "\n",
        "df['created'] = pd.to_datetime(df['created'], unit='s')\n",
        "df['created']"
      ]
    },
    {
      "cell_type": "code",
      "execution_count": 20,
      "metadata": {
        "colab": {
          "base_uri": "https://localhost:8080/",
          "height": 209
        },
        "id": "gP7EmU4n3eV9",
        "outputId": "8001e239-9560-44ff-819a-45d08e76adb6"
      },
      "outputs": [
        {
          "data": {
            "text/plain": [
              "period\n",
              "Before    1000\n",
              "During    1000\n",
              "After     1000\n",
              "Name: count, dtype: int64"
            ]
          },
          "execution_count": 20,
          "metadata": {},
          "output_type": "execute_result"
        }
      ],
      "source": [
        "# Create Column to Classify Dates as Before, During, After\n",
        "start_date = pd.Timestamp('2023-10-07')\n",
        "end_date = pd.Timestamp('2023-10-21')\n",
        "\n",
        "df['period'] = df['created'].apply(\n",
        "    lambda x: 'Before' if x < start_date else\n",
        "              'During' if start_date <= x <= end_date else\n",
        "              'After'\n",
        ")\n",
        "\n",
        "# Check\n",
        "df['period'].value_counts()"
      ]
    },
    {
      "cell_type": "code",
      "execution_count": 21,
      "metadata": {
        "colab": {
          "base_uri": "https://localhost:8080/"
        },
        "id": "xrkttAtfeyGS",
        "outputId": "e5822965-5b8c-46bd-e134-a6bd167c6e66"
      },
      "outputs": [
        {
          "data": {
            "text/plain": [
              "np.int64(0)"
            ]
          },
          "execution_count": 21,
          "metadata": {},
          "output_type": "execute_result"
        }
      ],
      "source": [
        "# Check duplicates\n",
        "df.duplicated().sum()"
      ]
    },
    {
      "cell_type": "code",
      "execution_count": 22,
      "metadata": {
        "colab": {
          "base_uri": "https://localhost:8080/",
          "height": 394
        },
        "id": "zFaaZ7bke0NX",
        "outputId": "77aa5c67-fa04-4e00-c43d-5a2d09d782bd"
      },
      "outputs": [
        {
          "data": {
            "text/html": [
              "<div>\n",
              "<style scoped>\n",
              "    .dataframe tbody tr th:only-of-type {\n",
              "        vertical-align: middle;\n",
              "    }\n",
              "\n",
              "    .dataframe tbody tr th {\n",
              "        vertical-align: top;\n",
              "    }\n",
              "\n",
              "    .dataframe thead th {\n",
              "        text-align: right;\n",
              "    }\n",
              "</style>\n",
              "<table border=\"1\" class=\"dataframe\">\n",
              "  <thead>\n",
              "    <tr style=\"text-align: right;\">\n",
              "      <th></th>\n",
              "      <th>created</th>\n",
              "      <th>body</th>\n",
              "      <th>score</th>\n",
              "      <th>period</th>\n",
              "    </tr>\n",
              "  </thead>\n",
              "  <tbody>\n",
              "    <tr>\n",
              "      <th>count</th>\n",
              "      <td>3000</td>\n",
              "      <td>3000</td>\n",
              "      <td>3000.000000</td>\n",
              "      <td>3000</td>\n",
              "    </tr>\n",
              "    <tr>\n",
              "      <th>unique</th>\n",
              "      <td>NaN</td>\n",
              "      <td>2980</td>\n",
              "      <td>NaN</td>\n",
              "      <td>3</td>\n",
              "    </tr>\n",
              "    <tr>\n",
              "      <th>top</th>\n",
              "      <td>NaN</td>\n",
              "      <td>Yeah no…. Israel has had an issue with raping ...</td>\n",
              "      <td>NaN</td>\n",
              "      <td>Before</td>\n",
              "    </tr>\n",
              "    <tr>\n",
              "      <th>freq</th>\n",
              "      <td>NaN</td>\n",
              "      <td>4</td>\n",
              "      <td>NaN</td>\n",
              "      <td>1000</td>\n",
              "    </tr>\n",
              "    <tr>\n",
              "      <th>mean</th>\n",
              "      <td>2023-12-03 20:42:22.366666752</td>\n",
              "      <td>NaN</td>\n",
              "      <td>27.805667</td>\n",
              "      <td>NaN</td>\n",
              "    </tr>\n",
              "    <tr>\n",
              "      <th>min</th>\n",
              "      <td>2023-09-22 00:01:57</td>\n",
              "      <td>NaN</td>\n",
              "      <td>-347.000000</td>\n",
              "      <td>NaN</td>\n",
              "    </tr>\n",
              "    <tr>\n",
              "      <th>25%</th>\n",
              "      <td>2023-09-29 16:08:17.500000</td>\n",
              "      <td>NaN</td>\n",
              "      <td>0.000000</td>\n",
              "      <td>NaN</td>\n",
              "    </tr>\n",
              "    <tr>\n",
              "      <th>50%</th>\n",
              "      <td>2023-10-07 07:02:58</td>\n",
              "      <td>NaN</td>\n",
              "      <td>4.000000</td>\n",
              "      <td>NaN</td>\n",
              "    </tr>\n",
              "    <tr>\n",
              "      <th>75%</th>\n",
              "      <td>2024-04-07 06:36:11</td>\n",
              "      <td>NaN</td>\n",
              "      <td>19.000000</td>\n",
              "      <td>NaN</td>\n",
              "    </tr>\n",
              "    <tr>\n",
              "      <th>max</th>\n",
              "      <td>2024-04-07 18:04:15</td>\n",
              "      <td>NaN</td>\n",
              "      <td>3556.000000</td>\n",
              "      <td>NaN</td>\n",
              "    </tr>\n",
              "    <tr>\n",
              "      <th>std</th>\n",
              "      <td>NaN</td>\n",
              "      <td>NaN</td>\n",
              "      <td>145.686243</td>\n",
              "      <td>NaN</td>\n",
              "    </tr>\n",
              "  </tbody>\n",
              "</table>\n",
              "</div>"
            ],
            "text/plain": [
              "                              created  \\\n",
              "count                            3000   \n",
              "unique                            NaN   \n",
              "top                               NaN   \n",
              "freq                              NaN   \n",
              "mean    2023-12-03 20:42:22.366666752   \n",
              "min               2023-09-22 00:01:57   \n",
              "25%        2023-09-29 16:08:17.500000   \n",
              "50%               2023-10-07 07:02:58   \n",
              "75%               2024-04-07 06:36:11   \n",
              "max               2024-04-07 18:04:15   \n",
              "std                               NaN   \n",
              "\n",
              "                                                     body        score  period  \n",
              "count                                                3000  3000.000000    3000  \n",
              "unique                                               2980          NaN       3  \n",
              "top     Yeah no…. Israel has had an issue with raping ...          NaN  Before  \n",
              "freq                                                    4          NaN    1000  \n",
              "mean                                                  NaN    27.805667     NaN  \n",
              "min                                                   NaN  -347.000000     NaN  \n",
              "25%                                                   NaN     0.000000     NaN  \n",
              "50%                                                   NaN     4.000000     NaN  \n",
              "75%                                                   NaN    19.000000     NaN  \n",
              "max                                                   NaN  3556.000000     NaN  \n",
              "std                                                   NaN   145.686243     NaN  "
            ]
          },
          "execution_count": 22,
          "metadata": {},
          "output_type": "execute_result"
        }
      ],
      "source": [
        "# Check statistics\n",
        "df.describe(include='all')"
      ]
    },
    {
      "cell_type": "code",
      "execution_count": 23,
      "metadata": {
        "colab": {
          "base_uri": "https://localhost:8080/",
          "height": 423
        },
        "id": "UigyXoRwPXF-",
        "outputId": "aad82c4d-55a4-47ff-c8e9-93978f7c7cc8"
      },
      "outputs": [],
      "source": [
        "# Convert all body samples to lowercase\n",
        "df['body'] = df['body'].str.lower()"
      ]
    },
    {
      "cell_type": "markdown",
      "metadata": {
        "id": "gGJOLS3FfjM1"
      },
      "source": [
        "## Sentiment Analysis\n",
        "\n",
        "We decided to use an NLP model as its the best fit model to get"
      ]
    },
    {
      "cell_type": "markdown",
      "metadata": {
        "id": "gHAabEiUjbMT"
      },
      "source": [
        "### VADER Sentiment Scoring\n",
        "\n",
        "We use NLTK's SentimentIntensityAnalyzer to get compound sentiment scores of the text.\n",
        "\n",
        "This model uses a 'bag of words' approach:\n",
        "1. Stop words are removed\n",
        "2. Each word is scored and combined to a total score\n",
        "\n",
        "Is a straightforward model although it has its limitations as it doesn't take into consideration the relationship between words which might limit the accuracy of our sentiment score, this is why we'll use other models to compare sentiment score results.\n",
        "\n"
      ]
    },
    {
      "cell_type": "code",
      "execution_count": 24,
      "metadata": {
        "colab": {
          "base_uri": "https://localhost:8080/"
        },
        "id": "s71JKDwrkH6L",
        "outputId": "552b8c66-fbc0-4752-9a1b-c6b8bf1b5c26"
      },
      "outputs": [
        {
          "name": "stderr",
          "output_type": "stream",
          "text": [
            "[nltk_data] Downloading package vader_lexicon to\n",
            "[nltk_data]     C:\\Users\\nivya\\AppData\\Roaming\\nltk_data...\n",
            "[nltk_data]   Package vader_lexicon is already up-to-date!\n"
          ]
        },
        {
          "data": {
            "text/plain": [
              "True"
            ]
          },
          "execution_count": 24,
          "metadata": {},
          "output_type": "execute_result"
        }
      ],
      "source": [
        "import nltk\n",
        "\n",
        "# Download the VADER lexicon\n",
        "nltk.download('vader_lexicon')"
      ]
    },
    {
      "cell_type": "code",
      "execution_count": 25,
      "metadata": {
        "id": "kbYvCuiriJ0M"
      },
      "outputs": [],
      "source": [
        "from nltk.sentiment import SentimentIntensityAnalyzer\n",
        "from tqdm.notebook import tqdm\n",
        "\n",
        "# Instantiate SIA object\n",
        "sia = SentimentIntensityAnalyzer()"
      ]
    },
    {
      "cell_type": "code",
      "execution_count": 26,
      "metadata": {
        "colab": {
          "base_uri": "https://localhost:8080/",
          "height": 206
        },
        "id": "dSpdbjY0iINw",
        "outputId": "48066f00-75bf-455f-8b8e-1694117d4959"
      },
      "outputs": [
        {
          "data": {
            "text/html": [
              "<div>\n",
              "<style scoped>\n",
              "    .dataframe tbody tr th:only-of-type {\n",
              "        vertical-align: middle;\n",
              "    }\n",
              "\n",
              "    .dataframe tbody tr th {\n",
              "        vertical-align: top;\n",
              "    }\n",
              "\n",
              "    .dataframe thead th {\n",
              "        text-align: right;\n",
              "    }\n",
              "</style>\n",
              "<table border=\"1\" class=\"dataframe\">\n",
              "  <thead>\n",
              "    <tr style=\"text-align: right;\">\n",
              "      <th></th>\n",
              "      <th>created</th>\n",
              "      <th>body</th>\n",
              "      <th>score</th>\n",
              "      <th>period</th>\n",
              "      <th>Sentiment_Score</th>\n",
              "    </tr>\n",
              "  </thead>\n",
              "  <tbody>\n",
              "    <tr>\n",
              "      <th>0</th>\n",
              "      <td>2023-09-22 00:01:57</td>\n",
              "      <td>what isn't being occupied right now over there...</td>\n",
              "      <td>-2</td>\n",
              "      <td>Before</td>\n",
              "      <td>-0.3736</td>\n",
              "    </tr>\n",
              "    <tr>\n",
              "      <th>1</th>\n",
              "      <td>2023-09-22 00:07:52</td>\n",
              "      <td>someone needs to grab their sniper, hop on the...</td>\n",
              "      <td>0</td>\n",
              "      <td>Before</td>\n",
              "      <td>-0.1531</td>\n",
              "    </tr>\n",
              "    <tr>\n",
              "      <th>2</th>\n",
              "      <td>2023-09-22 00:08:53</td>\n",
              "      <td>&gt;  the government of israel is not the same as...</td>\n",
              "      <td>0</td>\n",
              "      <td>Before</td>\n",
              "      <td>0.0000</td>\n",
              "    </tr>\n",
              "    <tr>\n",
              "      <th>3</th>\n",
              "      <td>2023-09-22 00:25:11</td>\n",
              "      <td>&gt; israel exploits the holocaust to censor any ...</td>\n",
              "      <td>1</td>\n",
              "      <td>Before</td>\n",
              "      <td>-0.9201</td>\n",
              "    </tr>\n",
              "    <tr>\n",
              "      <th>4</th>\n",
              "      <td>2023-09-22 00:46:38</td>\n",
              "      <td>this is not necessarily an extremist view or e...</td>\n",
              "      <td>1</td>\n",
              "      <td>Before</td>\n",
              "      <td>0.3291</td>\n",
              "    </tr>\n",
              "  </tbody>\n",
              "</table>\n",
              "</div>"
            ],
            "text/plain": [
              "              created                                               body  \\\n",
              "0 2023-09-22 00:01:57  what isn't being occupied right now over there...   \n",
              "1 2023-09-22 00:07:52  someone needs to grab their sniper, hop on the...   \n",
              "2 2023-09-22 00:08:53  >  the government of israel is not the same as...   \n",
              "3 2023-09-22 00:25:11  > israel exploits the holocaust to censor any ...   \n",
              "4 2023-09-22 00:46:38  this is not necessarily an extremist view or e...   \n",
              "\n",
              "   score  period  Sentiment_Score  \n",
              "0     -2  Before          -0.3736  \n",
              "1      0  Before          -0.1531  \n",
              "2      0  Before           0.0000  \n",
              "3      1  Before          -0.9201  \n",
              "4      1  Before           0.3291  "
            ]
          },
          "execution_count": 26,
          "metadata": {},
          "output_type": "execute_result"
        }
      ],
      "source": [
        "# Run the polarity score on the entire dataset\n",
        "df['Sentiment_Score'] =  df['body'].apply(lambda x: sia.polarity_scores(x)['compound'])\n",
        "\n",
        "df.head()"
      ]
    },
    {
      "cell_type": "markdown",
      "metadata": {
        "id": "9gZYOF54v9No"
      },
      "source": [
        "#### Correlation between sentiment and upvote score\n",
        "\n",
        "We see that there's no correlation between the features 'score' which represents the number of upvotes - number of downvotes and 'Sentiment_Score' calculated by the VADER model.\n",
        "\n",
        "From this information we can infer that there's no bias for or against Israel within the worldnews subreddit"
      ]
    },
    {
      "cell_type": "code",
      "execution_count": 27,
      "metadata": {
        "colab": {
          "base_uri": "https://localhost:8080/",
          "height": 449
        },
        "id": "XfNJOxgYuV8d",
        "outputId": "4e0f98d9-2360-4b42-9d45-12b6f98bb183"
      },
      "outputs": [
        {
          "data": {
            "image/png": "[encoded data removed]",
            "text/plain": [
              "<Figure size 640x480 with 1 Axes>"
            ]
          },
          "metadata": {},
          "output_type": "display_data"
        }
      ],
      "source": [
        "import matplotlib.pyplot as plt\n",
        "import seaborn as sns\n",
        "\n",
        "df_scores_sentiment = df[~df['score'].isin([0, 1])]\n",
        "\n",
        "sns.scatterplot(data=df_scores_sentiment, x='score', y='Sentiment_Score', color='teal')\n",
        "plt.xlabel('Score (Upvotes - Downvotes)')\n",
        "plt.ylabel('Sentiment Score (-1 to 1)')\n",
        "plt.show()"
      ]
    },
    {
      "cell_type": "code",
      "execution_count": 28,
      "metadata": {
        "colab": {
          "base_uri": "https://localhost:8080/",
          "height": 449
        },
        "id": "SNIWQjff3Wex",
        "outputId": "5e5eb82f-e7d2-491d-c4ea-30ea00bd979b"
      },
      "outputs": [
        {
          "data": {
            "image/png": "[encoded data removed]",
            "text/plain": [
              "<Figure size 640x480 with 1 Axes>"
            ]
          },
          "metadata": {},
          "output_type": "display_data"
        }
      ],
      "source": [
        "# Comparison of score and sentiment score when score between 0-100\n",
        "# not including 1 as it's default value when creating a comment\n",
        "\n",
        "df_score_sentiment_till_100 = df[(df['score'] > 1) & (df['score'] <=100)]\n",
        "\n",
        "sns.scatterplot(data=df_score_sentiment_till_100, x='score', y='Sentiment_Score', color='teal')\n",
        "plt.xlabel('Score (Upvotes - Downvotes)')\n",
        "plt.ylabel('Sentiment Score (-1 to 1)')\n",
        "plt.show()"
      ]
    },
    {
      "cell_type": "code",
      "execution_count": 29,
      "metadata": {
        "colab": {
          "base_uri": "https://localhost:8080/"
        },
        "id": "k8I1rQlFwHFl",
        "outputId": "f58f026b-f161-4926-9c80-ca4a7e2202ee"
      },
      "outputs": [
        {
          "name": "stdout",
          "output_type": "stream",
          "text": [
            "The correlation value between 'score' and 'sentiment_score: -0.0046\n"
          ]
        }
      ],
      "source": [
        "# Checking correlation value between upvotes (score) and sentiment score\n",
        "correlation_value = df['score'].corr(df['Sentiment_Score'])\n",
        "\n",
        "print(f\"The correlation value between 'score' and 'sentiment_score: {correlation_value:.4f}\")"
      ]
    },
    {
      "cell_type": "code",
      "execution_count": 30,
      "metadata": {
        "colab": {
          "base_uri": "https://localhost:8080/",
          "height": 472
        },
        "id": "Mmm9bHST29Tf",
        "outputId": "fd72943b-6640-4c6a-c9cf-ba46d65f8870"
      },
      "outputs": [
        {
          "data": {
            "image/png": "[encoded data removed]",
            "text/plain": [
              "<Figure size 640x480 with 1 Axes>"
            ]
          },
          "metadata": {},
          "output_type": "display_data"
        }
      ],
      "source": [
        "# Overall Distribution of sentiment score\n",
        "sns.histplot(data=df, x='Sentiment_Score', kde=True)\n",
        "plt.title('Distribution of Comments by Sentiment Score')\n",
        "plt.xlabel('Sentiment Score')\n",
        "plt.show()\n"
      ]
    },
    {
      "cell_type": "code",
      "execution_count": 31,
      "metadata": {
        "colab": {
          "base_uri": "https://localhost:8080/",
          "height": 507
        },
        "id": "rEK9_baJ6VzX",
        "outputId": "4f72352d-0854-4a1b-8644-0919863bb243"
      },
      "outputs": [
        {
          "data": {
            "image/png": "[encoded data removed]",
            "text/plain": [
              "<Figure size 1500x500 with 3 Axes>"
            ]
          },
          "metadata": {},
          "output_type": "display_data"
        }
      ],
      "source": [
        "# Distribution of Commments By Time Period\n",
        "df_before = df[df['period'] == 'Before']\n",
        "df_during = df[df['period'] == 'During']\n",
        "df_after = df[df['period'] == 'After']\n",
        "\n",
        "# Create the figure and 3 subplots (1 row, 3 columns)\n",
        "fig, axes = plt.subplots(1, 3, figsize=(15, 5))\n",
        "\n",
        "# Plot 1: Distribution of DataFrame 1\n",
        "sns.histplot(df_before['Sentiment_Score'], bins=30, kde=True, ax=axes[0], color='skyblue')\n",
        "axes[0].set_title('Distribution of Sentiment Score (Before)')\n",
        "axes[0].set_xlabel('Sentiment Score')\n",
        "\n",
        "\n",
        "# Plot 2: Distribution of DataFrame 2\n",
        "sns.histplot(df_during['Sentiment_Score'], bins=30, kde=True, ax=axes[1], color='salmon')\n",
        "axes[1].set_title('Distribution of Sentiment Score (During)')\n",
        "axes[1].set_xlabel('Sentiment Score')\n",
        "\n",
        "\n",
        "# Plot 3: Distribution of DataFrame 3\n",
        "sns.histplot(df_after['Sentiment_Score'], bins=30, kde=True, ax=axes[2], color='lightgreen')\n",
        "axes[2].set_title('Distribution of Sentiment Score (After)')\n",
        "\n",
        "\n",
        "# Adjust layout to prevent titles/labels from overlapping\n",
        "plt.tight_layout()\n",
        "plt.show()"
      ]
    },
    {
      "cell_type": "code",
      "execution_count": 32,
      "metadata": {
        "colab": {
          "base_uri": "https://localhost:8080/",
          "height": 574
        },
        "id": "eEmUFCVoE_5O",
        "outputId": "0a4f67fa-fb4a-4912-eccd-cf258cd2638d"
      },
      "outputs": [
        {
          "name": "stderr",
          "output_type": "stream",
          "text": [
            "C:\\Users\\nivya\\AppData\\Local\\Temp\\ipykernel_1716\\801994461.py:9: FutureWarning: \n",
            "\n",
            "Passing `palette` without assigning `hue` is deprecated and will be removed in v0.14.0. Assign the `x` variable to `hue` and set `legend=False` for the same effect.\n",
            "\n",
            "  ax = sns.barplot(data=period_negative_score, x='period', y='avg_sentiment_score', palette='YlGnBu', saturation=1,\n"
          ]
        },
        {
          "data": {
            "image/png": "[encoded data removed]",
            "text/plain": [
              "<Figure size 640x480 with 1 Axes>"
            ]
          },
          "metadata": {},
          "output_type": "display_data"
        }
      ],
      "source": [
        "# Avg Sentiment Score before, during and after\n",
        "\n",
        "# Calculate avg sentiment score per period\n",
        "period_negative_score = df.groupby('period').agg(\n",
        "    avg_sentiment_score = ('Sentiment_Score', 'mean')\n",
        ").reset_index()\n",
        "\n",
        "# Create Barplot\n",
        "ax = sns.barplot(data=period_negative_score, x='period', y='avg_sentiment_score', palette='YlGnBu', saturation=1,\n",
        "              order=['Before', 'During', 'After'])\n",
        "# Add labels to each bar\n",
        "for container in ax.containers:\n",
        "  ax.bar_label(container, fmt='%.3f')\n",
        "plt.title('Average Sentiment Score Per Period')\n",
        "plt.tight_layout()\n",
        "plt.show()"
      ]
    },
    {
      "cell_type": "code",
      "execution_count": 33,
      "metadata": {
        "colab": {
          "base_uri": "https://localhost:8080/",
          "height": 524
        },
        "id": "NsHbETl15B5-",
        "outputId": "5ec33748-58bb-4d15-8936-787d0c43297a"
      },
      "outputs": [
        {
          "data": {
            "image/png": "[encoded data removed]",
            "text/plain": [
              "<Figure size 640x480 with 1 Axes>"
            ]
          },
          "metadata": {},
          "output_type": "display_data"
        },
        {
          "name": "stdout",
          "output_type": "stream",
          "text": [
            "Total Comments: 3000\n",
            "Very Negative Comments: 402\n",
            "Proportion: 13.40%\n"
          ]
        }
      ],
      "source": [
        "# Distribution of Upvotes by Lowest Sentiment Score\n",
        "df_negative_sentiment = df[(df['Sentiment_Score'] > -1) & (df['Sentiment_Score'] < -0.9)]\n",
        "sns.histplot(data=df_negative_sentiment, x='score', kde=True)\n",
        "plt.title('Distribution of Upvotes for Comments with Very Negative Sentiment')\n",
        "plt.xlabel('Upvote Count')\n",
        "plt.ylabel('Frequency')\n",
        "plt.show()\n",
        "\n",
        "# Proportion of Comments That Were Very Negative (-0.9 and below)\n",
        "print(f\"Total Comments: {df.shape[0]}\\nVery Negative Comments: {df_negative_sentiment.shape[0]}\\nProportion: {((df_negative_sentiment.shape[0]/df.shape[0])*100):.2f}%\")\n"
      ]
    },
    {
      "cell_type": "markdown",
      "metadata": {
        "id": "OPrSIfNw7FS4"
      },
      "source": [
        "## THERE WERE MANY COMMENTS WITH EXTREMELY NEGATIVE SENTIMENT, THESE COMMENTS MOSTLY RECEIVED 1 UPVOTE INDICATING THAT THESE WERE COMMENTS MOST LIKELY LEFT BY TROLLS"
      ]
    },
    {
      "cell_type": "code",
      "execution_count": 34,
      "metadata": {
        "colab": {
          "base_uri": "https://localhost:8080/"
        },
        "id": "NYGqrXdhQMJz",
        "outputId": "b8de8c39-b9c7-4505-c3a6-042135a5bcfe"
      },
      "outputs": [
        {
          "name": "stdout",
          "output_type": "stream",
          "text": [
            "Requirement already satisfied: nltk in c:\\users\\nivya\\anaconda3\\envs\\jupyter_env\\lib\\site-packages (3.9.2)\n",
            "Requirement already satisfied: click in c:\\users\\nivya\\anaconda3\\envs\\jupyter_env\\lib\\site-packages (from nltk) (8.3.0)\n",
            "Requirement already satisfied: joblib in c:\\users\\nivya\\anaconda3\\envs\\jupyter_env\\lib\\site-packages (from nltk) (1.5.2)\n",
            "Requirement already satisfied: regex>=2021.8.3 in c:\\users\\nivya\\anaconda3\\envs\\jupyter_env\\lib\\site-packages (from nltk) (2025.10.23)\n",
            "Requirement already satisfied: tqdm in c:\\users\\nivya\\anaconda3\\envs\\jupyter_env\\lib\\site-packages (from nltk) (4.67.1)\n",
            "Requirement already satisfied: colorama in c:\\users\\nivya\\anaconda3\\envs\\jupyter_env\\lib\\site-packages (from click->nltk) (0.4.6)\n"
          ]
        },
        {
          "name": "stderr",
          "output_type": "stream",
          "text": [
            "[nltk_data] Downloading package stopwords to\n",
            "[nltk_data]     C:\\Users\\nivya\\AppData\\Roaming\\nltk_data...\n",
            "[nltk_data]   Unzipping corpora\\stopwords.zip.\n"
          ]
        },
        {
          "data": {
            "text/plain": [
              "True"
            ]
          },
          "execution_count": 34,
          "metadata": {},
          "output_type": "execute_result"
        }
      ],
      "source": [
        "!pip install nltk\n",
        "import nltk\n",
        "nltk.download('stopwords')"
      ]
    },
    {
      "cell_type": "code",
      "execution_count": 35,
      "metadata": {
        "id": "yQ0vkp2bPJMd"
      },
      "outputs": [],
      "source": [
        "# Keyword Trend Over Time\n",
        "\n",
        "from nltk.corpus import stopwords\n",
        "import re\n",
        "from collections import Counter\n",
        "\n",
        "\n",
        "# Load list of English stopwords ('the', 'a', 'is') and convert it to a set\n",
        "STOPWORDS = set(stopwords.words('english'))\n",
        "\n",
        "def get_top_keywords(series, top_n=10):\n",
        "  '''\n",
        "  Cleans text, removes stopwords, flattens all words, and returns the\n",
        "  top N most common words.\n",
        "  '''\n",
        "\n",
        "  # Break text into words and clean\n",
        "  # Handles punctuation and splitting comments into words\n",
        "  all_words = series.astype(str).str.lower().str.findall(r'\\b\\w+\\b').explode()\n",
        "\n",
        "  additional_words = ['would', 'like', 'they', 'even', 'right', 'https', 'people', 'also', 'going', 'think', 'want']\n",
        "  # Remove stopwords and filter out short tokens (like single letters)\n",
        "  filtered_words = all_words[\n",
        "      ~all_words.isin(STOPWORDS) &\n",
        "      (all_words.str.len() > 3) &\n",
        "      ~all_words.isin(additional_words)\n",
        "  ]\n",
        "\n",
        "  # Count frequencies\n",
        "  word_counts = Counter(filtered_words.dropna().tolist())\n",
        "\n",
        "  # Return the Top N\n",
        "  return word_counts.most_common(top_n)\n",
        "\n",
        "\n",
        "# Get top 10 keywords per period\n",
        "df_top_10_words_before = pd.DataFrame(get_top_keywords(df_before['body']), columns=['Word', 'Count'])\n",
        "df_top_10_words_during = pd.DataFrame(get_top_keywords(df_during['body']), columns=['Word', 'Count'])\n",
        "df_top_10_words_after = pd.DataFrame(get_top_keywords(df_after['body']), columns=['Word', 'Count'])\n",
        "\n"
      ]
    },
    {
      "cell_type": "code",
      "execution_count": null,
      "metadata": {
        "id": "wnwv11PVfxwB"
      },
      "outputs": [],
      "source": []
    },
    {
      "cell_type": "code",
      "execution_count": 36,
      "metadata": {
        "colab": {
          "base_uri": "https://localhost:8080/",
          "height": 517
        },
        "id": "kEqDD3yjWvvT",
        "outputId": "bcf0cff7-dd5a-460c-8c39-6342ebf4d405"
      },
      "outputs": [
        {
          "data": {
            "application/vnd.plotly.v1+json": {
              "config": {
                "plotlyServerURL": "https://plot.ly"
              },
              "data": [
                {
                  "marker": {
                    "color": {
                      "bdata": "AAECAwQFBgcICQ==",
                      "dtype": "i1"
                    },
                    "colorscale": [
                      [
                        0,
                        "rgb(167, 119, 12)"
                      ],
                      [
                        0.09090909090909091,
                        "rgb(197, 96, 51)"
                      ],
                      [
                        0.18181818181818182,
                        "rgb(217, 67, 96)"
                      ],
                      [
                        0.2727272727272727,
                        "rgb(221, 38, 163)"
                      ],
                      [
                        0.36363636363636365,
                        "rgb(196, 59, 224)"
                      ],
                      [
                        0.45454545454545453,
                        "rgb(153, 97, 244)"
                      ],
                      [
                        0.5454545454545454,
                        "rgb(95, 127, 228)"
                      ],
                      [
                        0.6363636363636364,
                        "rgb(40, 144, 183)"
                      ],
                      [
                        0.7272727272727273,
                        "rgb(15, 151, 136)"
                      ],
                      [
                        0.8181818181818182,
                        "rgb(39, 153, 79)"
                      ],
                      [
                        0.9090909090909091,
                        "rgb(119, 141, 17)"
                      ],
                      [
                        1,
                        "rgb(167, 119, 12)"
                      ]
                    ]
                  },
                  "showlegend": false,
                  "type": "bar",
                  "x": [
                    "israel",
                    "israeli",
                    "palestinian",
                    "iran",
                    "palestinians",
                    "country",
                    "jews",
                    "russia",
                    "west",
                    "state"
                  ],
                  "xaxis": "x",
                  "y": {
                    "bdata": "lQQAAcIAvAC3AKoAowCKAIYAhAA=",
                    "dtype": "i2"
                  },
                  "yaxis": "y"
                },
                {
                  "marker": {
                    "color": {
                      "bdata": "AAECAwQFBgcICQ==",
                      "dtype": "i1"
                    },
                    "colorscale": [
                      [
                        0,
                        "rgb(167, 119, 12)"
                      ],
                      [
                        0.09090909090909091,
                        "rgb(197, 96, 51)"
                      ],
                      [
                        0.18181818181818182,
                        "rgb(217, 67, 96)"
                      ],
                      [
                        0.2727272727272727,
                        "rgb(221, 38, 163)"
                      ],
                      [
                        0.36363636363636365,
                        "rgb(196, 59, 224)"
                      ],
                      [
                        0.45454545454545453,
                        "rgb(153, 97, 244)"
                      ],
                      [
                        0.5454545454545454,
                        "rgb(95, 127, 228)"
                      ],
                      [
                        0.6363636363636364,
                        "rgb(40, 144, 183)"
                      ],
                      [
                        0.7272727272727273,
                        "rgb(15, 151, 136)"
                      ],
                      [
                        0.8181818181818182,
                        "rgb(39, 153, 79)"
                      ],
                      [
                        0.9090909090909091,
                        "rgb(119, 141, 17)"
                      ],
                      [
                        1,
                        "rgb(167, 119, 12)"
                      ]
                    ]
                  },
                  "showlegend": false,
                  "type": "bar",
                  "x": [
                    "israel",
                    "hamas",
                    "israeli",
                    "civilians",
                    "gaza",
                    "palestinian",
                    "palestine",
                    "palestinians",
                    "terrorists",
                    "israelis"
                  ],
                  "xaxis": "x2",
                  "y": {
                    "bdata": "wQP+ANcAtgCxAKgAjgCKAGMAXAA=",
                    "dtype": "i2"
                  },
                  "yaxis": "y2"
                },
                {
                  "marker": {
                    "color": {
                      "bdata": "AAECAwQFBgcICQ==",
                      "dtype": "i1"
                    },
                    "colorscale": [
                      [
                        0,
                        "rgb(167, 119, 12)"
                      ],
                      [
                        0.09090909090909091,
                        "rgb(197, 96, 51)"
                      ],
                      [
                        0.18181818181818182,
                        "rgb(217, 67, 96)"
                      ],
                      [
                        0.2727272727272727,
                        "rgb(221, 38, 163)"
                      ],
                      [
                        0.36363636363636365,
                        "rgb(196, 59, 224)"
                      ],
                      [
                        0.45454545454545453,
                        "rgb(153, 97, 244)"
                      ],
                      [
                        0.5454545454545454,
                        "rgb(95, 127, 228)"
                      ],
                      [
                        0.6363636363636364,
                        "rgb(40, 144, 183)"
                      ],
                      [
                        0.7272727272727273,
                        "rgb(15, 151, 136)"
                      ],
                      [
                        0.8181818181818182,
                        "rgb(39, 153, 79)"
                      ],
                      [
                        0.9090909090909091,
                        "rgb(119, 141, 17)"
                      ],
                      [
                        1,
                        "rgb(167, 119, 12)"
                      ]
                    ]
                  },
                  "showlegend": false,
                  "type": "bar",
                  "x": [
                    "israel",
                    "hamas",
                    "gaza",
                    "israeli",
                    "civilians",
                    "world",
                    "iran",
                    "palestinians",
                    "hostages",
                    "support"
                  ],
                  "xaxis": "x3",
                  "y": {
                    "bdata": "3gSMAgwBtgCKAIQAeQB4AGUAYwA=",
                    "dtype": "i2"
                  },
                  "yaxis": "y3"
                }
              ],
              "layout": {
                "annotations": [
                  {
                    "font": {
                      "size": 16
                    },
                    "showarrow": false,
                    "text": "Before October 7th",
                    "x": 0.14444444444444446,
                    "xanchor": "center",
                    "xref": "paper",
                    "y": 1,
                    "yanchor": "bottom",
                    "yref": "paper"
                  },
                  {
                    "font": {
                      "size": 16
                    },
                    "showarrow": false,
                    "text": "During October 7th",
                    "x": 0.5,
                    "xanchor": "center",
                    "xref": "paper",
                    "y": 1,
                    "yanchor": "bottom",
                    "yref": "paper"
                  },
                  {
                    "font": {
                      "size": 16
                    },
                    "showarrow": false,
                    "text": "After October 7th",
                    "x": 0.8555555555555556,
                    "xanchor": "center",
                    "xref": "paper",
                    "y": 1,
                    "yanchor": "bottom",
                    "yref": "paper"
                  }
                ],
                "height": 500,
                "showlegend": false,
                "template": {
                  "data": {
                    "bar": [
                      {
                        "error_x": {
                          "color": "#2a3f5f"
                        },
                        "error_y": {
                          "color": "#2a3f5f"
                        },
                        "marker": {
                          "line": {
                            "color": "#E5ECF6",
                            "width": 0.5
                          },
                          "pattern": {
                            "fillmode": "overlay",
                            "size": 10,
                            "solidity": 0.2
                          }
                        },
                        "type": "bar"
                      }
                    ],
                    "barpolar": [
                      {
                        "marker": {
                          "line": {
                            "color": "#E5ECF6",
                            "width": 0.5
                          },
                          "pattern": {
                            "fillmode": "overlay",
                            "size": 10,
                            "solidity": 0.2
                          }
                        },
                        "type": "barpolar"
                      }
                    ],
                    "carpet": [
                      {
                        "aaxis": {
                          "endlinecolor": "#2a3f5f",
                          "gridcolor": "white",
                          "linecolor": "white",
                          "minorgridcolor": "white",
                          "startlinecolor": "#2a3f5f"
                        },
                        "baxis": {
                          "endlinecolor": "#2a3f5f",
                          "gridcolor": "white",
                          "linecolor": "white",
                          "minorgridcolor": "white",
                          "startlinecolor": "#2a3f5f"
                        },
                        "type": "carpet"
                      }
                    ],
                    "choropleth": [
                      {
                        "colorbar": {
                          "outlinewidth": 0,
                          "ticks": ""
                        },
                        "type": "choropleth"
                      }
                    ],
                    "contour": [
                      {
                        "colorbar": {
                          "outlinewidth": 0,
                          "ticks": ""
                        },
                        "colorscale": [
                          [
                            0,
                            "#0d0887"
                          ],
                          [
                            0.1111111111111111,
                            "#46039f"
                          ],
                          [
                            0.2222222222222222,
                            "#7201a8"
                          ],
                          [
                            0.3333333333333333,
                            "#9c179e"
                          ],
                          [
                            0.4444444444444444,
                            "#bd3786"
                          ],
                          [
                            0.5555555555555556,
                            "#d8576b"
                          ],
                          [
                            0.6666666666666666,
                            "#ed7953"
                          ],
                          [
                            0.7777777777777778,
                            "#fb9f3a"
                          ],
                          [
                            0.8888888888888888,
                            "#fdca26"
                          ],
                          [
                            1,
                            "#f0f921"
                          ]
                        ],
                        "type": "contour"
                      }
                    ],
                    "contourcarpet": [
                      {
                        "colorbar": {
                          "outlinewidth": 0,
                          "ticks": ""
                        },
                        "type": "contourcarpet"
                      }
                    ],
                    "heatmap": [
                      {
                        "colorbar": {
                          "outlinewidth": 0,
                          "ticks": ""
                        },
                        "colorscale": [
                          [
                            0,
                            "#0d0887"
                          ],
                          [
                            0.1111111111111111,
                            "#46039f"
                          ],
                          [
                            0.2222222222222222,
                            "#7201a8"
                          ],
                          [
                            0.3333333333333333,
                            "#9c179e"
                          ],
                          [
                            0.4444444444444444,
                            "#bd3786"
                          ],
                          [
                            0.5555555555555556,
                            "#d8576b"
                          ],
                          [
                            0.6666666666666666,
                            "#ed7953"
                          ],
                          [
                            0.7777777777777778,
                            "#fb9f3a"
                          ],
                          [
                            0.8888888888888888,
                            "#fdca26"
                          ],
                          [
                            1,
                            "#f0f921"
                          ]
                        ],
                        "type": "heatmap"
                      }
                    ],
                    "histogram": [
                      {
                        "marker": {
                          "pattern": {
                            "fillmode": "overlay",
                            "size": 10,
                            "solidity": 0.2
                          }
                        },
                        "type": "histogram"
                      }
                    ],
                    "histogram2d": [
                      {
                        "colorbar": {
                          "outlinewidth": 0,
                          "ticks": ""
                        },
                        "colorscale": [
                          [
                            0,
                            "#0d0887"
                          ],
                          [
                            0.1111111111111111,
                            "#46039f"
                          ],
                          [
                            0.2222222222222222,
                            "#7201a8"
                          ],
                          [
                            0.3333333333333333,
                            "#9c179e"
                          ],
                          [
                            0.4444444444444444,
                            "#bd3786"
                          ],
                          [
                            0.5555555555555556,
                            "#d8576b"
                          ],
                          [
                            0.6666666666666666,
                            "#ed7953"
                          ],
                          [
                            0.7777777777777778,
                            "#fb9f3a"
                          ],
                          [
                            0.8888888888888888,
                            "#fdca26"
                          ],
                          [
                            1,
                            "#f0f921"
                          ]
                        ],
                        "type": "histogram2d"
                      }
                    ],
                    "histogram2dcontour": [
                      {
                        "colorbar": {
                          "outlinewidth": 0,
                          "ticks": ""
                        },
                        "colorscale": [
                          [
                            0,
                            "#0d0887"
                          ],
                          [
                            0.1111111111111111,
                            "#46039f"
                          ],
                          [
                            0.2222222222222222,
                            "#7201a8"
                          ],
                          [
                            0.3333333333333333,
                            "#9c179e"
                          ],
                          [
                            0.4444444444444444,
                            "#bd3786"
                          ],
                          [
                            0.5555555555555556,
                            "#d8576b"
                          ],
                          [
                            0.6666666666666666,
                            "#ed7953"
                          ],
                          [
                            0.7777777777777778,
                            "#fb9f3a"
                          ],
                          [
                            0.8888888888888888,
                            "#fdca26"
                          ],
                          [
                            1,
                            "#f0f921"
                          ]
                        ],
                        "type": "histogram2dcontour"
                      }
                    ],
                    "mesh3d": [
                      {
                        "colorbar": {
                          "outlinewidth": 0,
                          "ticks": ""
                        },
                        "type": "mesh3d"
                      }
                    ],
                    "parcoords": [
                      {
                        "line": {
                          "colorbar": {
                            "outlinewidth": 0,
                            "ticks": ""
                          }
                        },
                        "type": "parcoords"
                      }
                    ],
                    "pie": [
                      {
                        "automargin": true,
                        "type": "pie"
                      }
                    ],
                    "scatter": [
                      {
                        "fillpattern": {
                          "fillmode": "overlay",
                          "size": 10,
                          "solidity": 0.2
                        },
                        "type": "scatter"
                      }
                    ],
                    "scatter3d": [
                      {
                        "line": {
                          "colorbar": {
                            "outlinewidth": 0,
                            "ticks": ""
                          }
                        },
                        "marker": {
                          "colorbar": {
                            "outlinewidth": 0,
                            "ticks": ""
                          }
                        },
                        "type": "scatter3d"
                      }
                    ],
                    "scattercarpet": [
                      {
                        "marker": {
                          "colorbar": {
                            "outlinewidth": 0,
                            "ticks": ""
                          }
                        },
                        "type": "scattercarpet"
                      }
                    ],
                    "scattergeo": [
                      {
                        "marker": {
                          "colorbar": {
                            "outlinewidth": 0,
                            "ticks": ""
                          }
                        },
                        "type": "scattergeo"
                      }
                    ],
                    "scattergl": [
                      {
                        "marker": {
                          "colorbar": {
                            "outlinewidth": 0,
                            "ticks": ""
                          }
                        },
                        "type": "scattergl"
                      }
                    ],
                    "scattermap": [
                      {
                        "marker": {
                          "colorbar": {
                            "outlinewidth": 0,
                            "ticks": ""
                          }
                        },
                        "type": "scattermap"
                      }
                    ],
                    "scattermapbox": [
                      {
                        "marker": {
                          "colorbar": {
                            "outlinewidth": 0,
                            "ticks": ""
                          }
                        },
                        "type": "scattermapbox"
                      }
                    ],
                    "scatterpolar": [
                      {
                        "marker": {
                          "colorbar": {
                            "outlinewidth": 0,
                            "ticks": ""
                          }
                        },
                        "type": "scatterpolar"
                      }
                    ],
                    "scatterpolargl": [
                      {
                        "marker": {
                          "colorbar": {
                            "outlinewidth": 0,
                            "ticks": ""
                          }
                        },
                        "type": "scatterpolargl"
                      }
                    ],
                    "scatterternary": [
                      {
                        "marker": {
                          "colorbar": {
                            "outlinewidth": 0,
                            "ticks": ""
                          }
                        },
                        "type": "scatterternary"
                      }
                    ],
                    "surface": [
                      {
                        "colorbar": {
                          "outlinewidth": 0,
                          "ticks": ""
                        },
                        "colorscale": [
                          [
                            0,
                            "#0d0887"
                          ],
                          [
                            0.1111111111111111,
                            "#46039f"
                          ],
                          [
                            0.2222222222222222,
                            "#7201a8"
                          ],
                          [
                            0.3333333333333333,
                            "#9c179e"
                          ],
                          [
                            0.4444444444444444,
                            "#bd3786"
                          ],
                          [
                            0.5555555555555556,
                            "#d8576b"
                          ],
                          [
                            0.6666666666666666,
                            "#ed7953"
                          ],
                          [
                            0.7777777777777778,
                            "#fb9f3a"
                          ],
                          [
                            0.8888888888888888,
                            "#fdca26"
                          ],
                          [
                            1,
                            "#f0f921"
                          ]
                        ],
                        "type": "surface"
                      }
                    ],
                    "table": [
                      {
                        "cells": {
                          "fill": {
                            "color": "#EBF0F8"
                          },
                          "line": {
                            "color": "white"
                          }
                        },
                        "header": {
                          "fill": {
                            "color": "#C8D4E3"
                          },
                          "line": {
                            "color": "white"
                          }
                        },
                        "type": "table"
                      }
                    ]
                  },
                  "layout": {
                    "annotationdefaults": {
                      "arrowcolor": "#2a3f5f",
                      "arrowhead": 0,
                      "arrowwidth": 1
                    },
                    "autotypenumbers": "strict",
                    "coloraxis": {
                      "colorbar": {
                        "outlinewidth": 0,
                        "ticks": ""
                      }
                    },
                    "colorscale": {
                      "diverging": [
                        [
                          0,
                          "#8e0152"
                        ],
                        [
                          0.1,
                          "#c51b7d"
                        ],
                        [
                          0.2,
                          "#de77ae"
                        ],
                        [
                          0.3,
                          "#f1b6da"
                        ],
                        [
                          0.4,
                          "#fde0ef"
                        ],
                        [
                          0.5,
                          "#f7f7f7"
                        ],
                        [
                          0.6,
                          "#e6f5d0"
                        ],
                        [
                          0.7,
                          "#b8e186"
                        ],
                        [
                          0.8,
                          "#7fbc41"
                        ],
                        [
                          0.9,
                          "#4d9221"
                        ],
                        [
                          1,
                          "#276419"
                        ]
                      ],
                      "sequential": [
                        [
                          0,
                          "#0d0887"
                        ],
                        [
                          0.1111111111111111,
                          "#46039f"
                        ],
                        [
                          0.2222222222222222,
                          "#7201a8"
                        ],
                        [
                          0.3333333333333333,
                          "#9c179e"
                        ],
                        [
                          0.4444444444444444,
                          "#bd3786"
                        ],
                        [
                          0.5555555555555556,
                          "#d8576b"
                        ],
                        [
                          0.6666666666666666,
                          "#ed7953"
                        ],
                        [
                          0.7777777777777778,
                          "#fb9f3a"
                        ],
                        [
                          0.8888888888888888,
                          "#fdca26"
                        ],
                        [
                          1,
                          "#f0f921"
                        ]
                      ],
                      "sequentialminus": [
                        [
                          0,
                          "#0d0887"
                        ],
                        [
                          0.1111111111111111,
                          "#46039f"
                        ],
                        [
                          0.2222222222222222,
                          "#7201a8"
                        ],
                        [
                          0.3333333333333333,
                          "#9c179e"
                        ],
                        [
                          0.4444444444444444,
                          "#bd3786"
                        ],
                        [
                          0.5555555555555556,
                          "#d8576b"
                        ],
                        [
                          0.6666666666666666,
                          "#ed7953"
                        ],
                        [
                          0.7777777777777778,
                          "#fb9f3a"
                        ],
                        [
                          0.8888888888888888,
                          "#fdca26"
                        ],
                        [
                          1,
                          "#f0f921"
                        ]
                      ]
                    },
                    "colorway": [
                      "#636efa",
                      "#EF553B",
                      "#00cc96",
                      "#ab63fa",
                      "#FFA15A",
                      "#19d3f3",
                      "#FF6692",
                      "#B6E880",
                      "#FF97FF",
                      "#FECB52"
                    ],
                    "font": {
                      "color": "#2a3f5f"
                    },
                    "geo": {
                      "bgcolor": "white",
                      "lakecolor": "white",
                      "landcolor": "#E5ECF6",
                      "showlakes": true,
                      "showland": true,
                      "subunitcolor": "white"
                    },
                    "hoverlabel": {
                      "align": "left"
                    },
                    "hovermode": "closest",
                    "mapbox": {
                      "style": "light"
                    },
                    "paper_bgcolor": "white",
                    "plot_bgcolor": "#E5ECF6",
                    "polar": {
                      "angularaxis": {
                        "gridcolor": "white",
                        "linecolor": "white",
                        "ticks": ""
                      },
                      "bgcolor": "#E5ECF6",
                      "radialaxis": {
                        "gridcolor": "white",
                        "linecolor": "white",
                        "ticks": ""
                      }
                    },
                    "scene": {
                      "xaxis": {
                        "backgroundcolor": "#E5ECF6",
                        "gridcolor": "white",
                        "gridwidth": 2,
                        "linecolor": "white",
                        "showbackground": true,
                        "ticks": "",
                        "zerolinecolor": "white"
                      },
                      "yaxis": {
                        "backgroundcolor": "#E5ECF6",
                        "gridcolor": "white",
                        "gridwidth": 2,
                        "linecolor": "white",
                        "showbackground": true,
                        "ticks": "",
                        "zerolinecolor": "white"
                      },
                      "zaxis": {
                        "backgroundcolor": "#E5ECF6",
                        "gridcolor": "white",
                        "gridwidth": 2,
                        "linecolor": "white",
                        "showbackground": true,
                        "ticks": "",
                        "zerolinecolor": "white"
                      }
                    },
                    "shapedefaults": {
                      "line": {
                        "color": "#2a3f5f"
                      }
                    },
                    "ternary": {
                      "aaxis": {
                        "gridcolor": "white",
                        "linecolor": "white",
                        "ticks": ""
                      },
                      "baxis": {
                        "gridcolor": "white",
                        "linecolor": "white",
                        "ticks": ""
                      },
                      "bgcolor": "#E5ECF6",
                      "caxis": {
                        "gridcolor": "white",
                        "linecolor": "white",
                        "ticks": ""
                      }
                    },
                    "title": {
                      "x": 0.05
                    },
                    "xaxis": {
                      "automargin": true,
                      "gridcolor": "white",
                      "linecolor": "white",
                      "ticks": "",
                      "title": {
                        "standoff": 15
                      },
                      "zerolinecolor": "white",
                      "zerolinewidth": 2
                    },
                    "yaxis": {
                      "automargin": true,
                      "gridcolor": "white",
                      "linecolor": "white",
                      "ticks": "",
                      "title": {
                        "standoff": 15
                      },
                      "zerolinecolor": "white",
                      "zerolinewidth": 2
                    }
                  }
                },
                "title": {
                  "font": {
                    "size": 16
                  },
                  "text": "Top 10 Keywords Over Time"
                },
                "width": 1500,
                "xaxis": {
                  "anchor": "y",
                  "domain": [
                    0,
                    0.2888888888888889
                  ]
                },
                "xaxis2": {
                  "anchor": "y2",
                  "domain": [
                    0.35555555555555557,
                    0.6444444444444445
                  ]
                },
                "xaxis3": {
                  "anchor": "y3",
                  "domain": [
                    0.7111111111111111,
                    1
                  ]
                },
                "yaxis": {
                  "anchor": "x",
                  "domain": [
                    0,
                    1
                  ],
                  "title": {
                    "text": "Count"
                  }
                },
                "yaxis2": {
                  "anchor": "x2",
                  "domain": [
                    0,
                    1
                  ],
                  "title": {
                    "text": "Count"
                  }
                },
                "yaxis3": {
                  "anchor": "x3",
                  "domain": [
                    0,
                    1
                  ],
                  "title": {
                    "text": "Count"
                  }
                }
              }
            }
          },
          "metadata": {},
          "output_type": "display_data"
        }
      ],
      "source": [
        "import plotly.graph_objects as go\n",
        "from plotly.subplots import make_subplots\n",
        "\n",
        "# Create subplots with 1 row and 3 columns\n",
        "fig = make_subplots(\n",
        "    rows=1, cols=3,\n",
        "    subplot_titles=('Before October 7th', 'During October 7th', 'After October 7th')\n",
        ")\n",
        "\n",
        "# Plot 1: Before October 7th\n",
        "fig.add_trace(\n",
        "    go.Bar(\n",
        "        x=df_top_10_words_before['Word'],\n",
        "        y=df_top_10_words_before['Count'],\n",
        "        marker=dict(color=df_top_10_words_before.index, colorscale='Phase'),\n",
        "        showlegend=False\n",
        "    ),\n",
        "    row=1, col=1\n",
        ")\n",
        "\n",
        "# Plot 2: During October 7th\n",
        "fig.add_trace(\n",
        "    go.Bar(\n",
        "        x=df_top_10_words_during['Word'],\n",
        "        y=df_top_10_words_during['Count'],\n",
        "        marker=dict(color=df_top_10_words_during.index, colorscale='Phase'),\n",
        "        showlegend=False\n",
        "    ),\n",
        "    row=1, col=2\n",
        ")\n",
        "\n",
        "# Plot 3: After October 7th\n",
        "fig.add_trace(\n",
        "    go.Bar(\n",
        "        x=df_top_10_words_after['Word'],\n",
        "        y=df_top_10_words_after['Count'],\n",
        "        marker=dict(color=df_top_10_words_after.index, colorscale='Phase'),\n",
        "        showlegend=False\n",
        "    ),\n",
        "    row=1, col=3\n",
        ")\n",
        "\n",
        "# Update layout\n",
        "fig.update_layout(\n",
        "    title_text='Top 10 Keywords Over Time',\n",
        "    title_font_size=16,\n",
        "    height=500,\n",
        "    width=1500,\n",
        "    showlegend=False\n",
        ")\n",
        "\n",
        "# Update y-axis titles\n",
        "fig.update_yaxes(title_text='Count')\n",
        "\n",
        "fig.show()"
      ]
    },
    {
      "cell_type": "markdown",
      "metadata": {
        "id": "kW99WVCP1Qf3"
      },
      "source": [
        "### Roberta Pretrained Model\n",
        "\n",
        "- This model accounts for the individual words that are part of a text but also recognizes the context related to other words.\n",
        "\n",
        "- We're using hugginface's pretrained model as they are one of the leaders in this area (their library is 'transformers')"
      ]
    },
    {
      "cell_type": "code",
      "execution_count": 37,
      "metadata": {
        "colab": {
          "base_uri": "https://localhost:8080/"
        },
        "id": "mAY2whEhEc7V",
        "outputId": "968b4a3e-0135-47b9-805e-40d1b31cfe9f"
      },
      "outputs": [
        {
          "name": "stdout",
          "output_type": "stream",
          "text": [
            "Collecting transformers\n",
            "  Downloading transformers-4.57.1-py3-none-any.whl.metadata (43 kB)\n",
            "Collecting huggingface_hub\n",
            "  Downloading huggingface_hub-0.36.0-py3-none-any.whl.metadata (14 kB)\n",
            "Collecting filelock (from transformers)\n",
            "  Downloading filelock-3.20.0-py3-none-any.whl.metadata (2.1 kB)\n",
            "Requirement already satisfied: numpy>=1.17 in c:\\users\\nivya\\anaconda3\\envs\\jupyter_env\\lib\\site-packages (from transformers) (2.3.2)\n",
            "Requirement already satisfied: packaging>=20.0 in c:\\users\\nivya\\anaconda3\\envs\\jupyter_env\\lib\\site-packages (from transformers) (25.0)\n",
            "Requirement already satisfied: pyyaml>=5.1 in c:\\users\\nivya\\anaconda3\\envs\\jupyter_env\\lib\\site-packages (from transformers) (6.0.2)\n",
            "Requirement already satisfied: regex!=2019.12.17 in c:\\users\\nivya\\anaconda3\\envs\\jupyter_env\\lib\\site-packages (from transformers) (2025.10.23)\n",
            "Requirement already satisfied: requests in c:\\users\\nivya\\anaconda3\\envs\\jupyter_env\\lib\\site-packages (from transformers) (2.32.5)\n",
            "Collecting tokenizers<=0.23.0,>=0.22.0 (from transformers)\n",
            "  Downloading tokenizers-0.22.1-cp39-abi3-win_amd64.whl.metadata (6.9 kB)\n",
            "Collecting safetensors>=0.4.3 (from transformers)\n",
            "  Downloading safetensors-0.6.2-cp38-abi3-win_amd64.whl.metadata (4.1 kB)\n",
            "Requirement already satisfied: tqdm>=4.27 in c:\\users\\nivya\\anaconda3\\envs\\jupyter_env\\lib\\site-packages (from transformers) (4.67.1)\n",
            "Collecting fsspec>=2023.5.0 (from huggingface_hub)\n",
            "  Downloading fsspec-2025.9.0-py3-none-any.whl.metadata (10 kB)\n",
            "Requirement already satisfied: typing-extensions>=3.7.4.3 in c:\\users\\nivya\\anaconda3\\envs\\jupyter_env\\lib\\site-packages (from huggingface_hub) (4.15.0)\n",
            "Requirement already satisfied: colorama in c:\\users\\nivya\\anaconda3\\envs\\jupyter_env\\lib\\site-packages (from tqdm>=4.27->transformers) (0.4.6)\n",
            "Requirement already satisfied: charset_normalizer<4,>=2 in c:\\users\\nivya\\anaconda3\\envs\\jupyter_env\\lib\\site-packages (from requests->transformers) (3.3.2)\n",
            "Requirement already satisfied: idna<4,>=2.5 in c:\\users\\nivya\\anaconda3\\envs\\jupyter_env\\lib\\site-packages (from requests->transformers) (3.7)\n",
            "Requirement already satisfied: urllib3<3,>=1.21.1 in c:\\users\\nivya\\anaconda3\\envs\\jupyter_env\\lib\\site-packages (from requests->transformers) (2.5.0)\n",
            "Requirement already satisfied: certifi>=2017.4.17 in c:\\users\\nivya\\anaconda3\\envs\\jupyter_env\\lib\\site-packages (from requests->transformers) (2025.8.3)\n",
            "Downloading transformers-4.57.1-py3-none-any.whl (12.0 MB)\n",
            "   ---------------------------------------- 0.0/12.0 MB ? eta -:--:--\n",
            "   -- ------------------------------------- 0.8/12.0 MB 8.3 MB/s eta 0:00:02\n",
            "   ---------------------------------------  11.8/12.0 MB 38.8 MB/s eta 0:00:01\n",
            "   ---------------------------------------- 12.0/12.0 MB 35.6 MB/s  0:00:00\n",
            "Downloading huggingface_hub-0.36.0-py3-none-any.whl (566 kB)\n",
            "   ---------------------------------------- 0.0/566.1 kB ? eta -:--:--\n",
            "   ---------------------------------------- 566.1/566.1 kB 19.0 MB/s  0:00:00\n",
            "Downloading tokenizers-0.22.1-cp39-abi3-win_amd64.whl (2.7 MB)\n",
            "   ---------------------------------------- 0.0/2.7 MB ? eta -:--:--\n",
            "   ---------------------------------------- 2.7/2.7 MB 52.4 MB/s  0:00:00\n",
            "Downloading fsspec-2025.9.0-py3-none-any.whl (199 kB)\n",
            "Downloading safetensors-0.6.2-cp38-abi3-win_amd64.whl (320 kB)\n",
            "Downloading filelock-3.20.0-py3-none-any.whl (16 kB)\n",
            "Installing collected packages: safetensors, fsspec, filelock, huggingface_hub, tokenizers, transformers\n",
            "\n",
            "   ------ --------------------------------- 1/6 [fsspec]\n",
            "   ------ --------------------------------- 1/6 [fsspec]\n",
            "   -------------------- ------------------- 3/6 [huggingface_hub]\n",
            "   -------------------- ------------------- 3/6 [huggingface_hub]\n",
            "   -------------------- ------------------- 3/6 [huggingface_hub]\n",
            "   -------------------- ------------------- 3/6 [huggingface_hub]\n",
            "   -------------------- ------------------- 3/6 [huggingface_hub]\n",
            "   --------------------------------- ------ 5/6 [transformers]\n",
            "   --------------------------------- ------ 5/6 [transformers]\n",
            "   --------------------------------- ------ 5/6 [transformers]\n",
            "   --------------------------------- ------ 5/6 [transformers]\n",
            "   --------------------------------- ------ 5/6 [transformers]\n",
            "   --------------------------------- ------ 5/6 [transformers]\n",
            "   --------------------------------- ------ 5/6 [transformers]\n",
            "   --------------------------------- ------ 5/6 [transformers]\n",
            "   --------------------------------- ------ 5/6 [transformers]\n",
            "   --------------------------------- ------ 5/6 [transformers]\n",
            "   --------------------------------- ------ 5/6 [transformers]\n",
            "   --------------------------------- ------ 5/6 [transformers]\n",
            "   --------------------------------- ------ 5/6 [transformers]\n",
            "   --------------------------------- ------ 5/6 [transformers]\n",
            "   --------------------------------- ------ 5/6 [transformers]\n",
            "   --------------------------------- ------ 5/6 [transformers]\n",
            "   --------------------------------- ------ 5/6 [transformers]\n",
            "   --------------------------------- ------ 5/6 [transformers]\n",
            "   --------------------------------- ------ 5/6 [transformers]\n",
            "   --------------------------------- ------ 5/6 [transformers]\n",
            "   --------------------------------- ------ 5/6 [transformers]\n",
            "   --------------------------------- ------ 5/6 [transformers]\n",
            "   --------------------------------- ------ 5/6 [transformers]\n",
            "   --------------------------------- ------ 5/6 [transformers]\n",
            "   --------------------------------- ------ 5/6 [transformers]\n",
            "   --------------------------------- ------ 5/6 [transformers]\n",
            "   --------------------------------- ------ 5/6 [transformers]\n",
            "   --------------------------------- ------ 5/6 [transformers]\n",
            "   --------------------------------- ------ 5/6 [transformers]\n",
            "   --------------------------------- ------ 5/6 [transformers]\n",
            "   --------------------------------- ------ 5/6 [transformers]\n",
            "   --------------------------------- ------ 5/6 [transformers]\n",
            "   --------------------------------- ------ 5/6 [transformers]\n",
            "   --------------------------------- ------ 5/6 [transformers]\n",
            "   --------------------------------- ------ 5/6 [transformers]\n",
            "   --------------------------------- ------ 5/6 [transformers]\n",
            "   --------------------------------- ------ 5/6 [transformers]\n",
            "   --------------------------------- ------ 5/6 [transformers]\n",
            "   --------------------------------- ------ 5/6 [transformers]\n",
            "   --------------------------------- ------ 5/6 [transformers]\n",
            "   --------------------------------- ------ 5/6 [transformers]\n",
            "   --------------------------------- ------ 5/6 [transformers]\n",
            "   --------------------------------- ------ 5/6 [transformers]\n",
            "   --------------------------------- ------ 5/6 [transformers]\n",
            "   --------------------------------- ------ 5/6 [transformers]\n",
            "   --------------------------------- ------ 5/6 [transformers]\n",
            "   --------------------------------- ------ 5/6 [transformers]\n",
            "   --------------------------------- ------ 5/6 [transformers]\n",
            "   --------------------------------- ------ 5/6 [transformers]\n",
            "   --------------------------------- ------ 5/6 [transformers]\n",
            "   --------------------------------- ------ 5/6 [transformers]\n",
            "   --------------------------------- ------ 5/6 [transformers]\n",
            "   --------------------------------- ------ 5/6 [transformers]\n",
            "   --------------------------------- ------ 5/6 [transformers]\n",
            "   --------------------------------- ------ 5/6 [transformers]\n",
            "   --------------------------------- ------ 5/6 [transformers]\n",
            "   --------------------------------- ------ 5/6 [transformers]\n",
            "   --------------------------------- ------ 5/6 [transformers]\n",
            "   --------------------------------- ------ 5/6 [transformers]\n",
            "   --------------------------------- ------ 5/6 [transformers]\n",
            "   --------------------------------- ------ 5/6 [transformers]\n",
            "   --------------------------------- ------ 5/6 [transformers]\n",
            "   --------------------------------- ------ 5/6 [transformers]\n",
            "   --------------------------------- ------ 5/6 [transformers]\n",
            "   --------------------------------- ------ 5/6 [transformers]\n",
            "   --------------------------------- ------ 5/6 [transformers]\n",
            "   --------------------------------- ------ 5/6 [transformers]\n",
            "   --------------------------------- ------ 5/6 [transformers]\n",
            "   --------------------------------- ------ 5/6 [transformers]\n",
            "   --------------------------------- ------ 5/6 [transformers]\n",
            "   --------------------------------- ------ 5/6 [transformers]\n",
            "   --------------------------------- ------ 5/6 [transformers]\n",
            "   --------------------------------- ------ 5/6 [transformers]\n",
            "   --------------------------------- ------ 5/6 [transformers]\n",
            "   --------------------------------- ------ 5/6 [transformers]\n",
            "   --------------------------------- ------ 5/6 [transformers]\n",
            "   --------------------------------- ------ 5/6 [transformers]\n",
            "   --------------------------------- ------ 5/6 [transformers]\n",
            "   --------------------------------- ------ 5/6 [transformers]\n",
            "   --------------------------------- ------ 5/6 [transformers]\n",
            "   --------------------------------- ------ 5/6 [transformers]\n",
            "   --------------------------------- ------ 5/6 [transformers]\n",
            "   --------------------------------- ------ 5/6 [transformers]\n",
            "   --------------------------------- ------ 5/6 [transformers]\n",
            "   --------------------------------- ------ 5/6 [transformers]\n",
            "   --------------------------------- ------ 5/6 [transformers]\n",
            "   --------------------------------- ------ 5/6 [transformers]\n",
            "   --------------------------------- ------ 5/6 [transformers]\n",
            "   --------------------------------- ------ 5/6 [transformers]\n",
            "   --------------------------------- ------ 5/6 [transformers]\n",
            "   --------------------------------- ------ 5/6 [transformers]\n",
            "   --------------------------------- ------ 5/6 [transformers]\n",
            "   --------------------------------- ------ 5/6 [transformers]\n",
            "   ---------------------------------------- 6/6 [transformers]\n",
            "\n",
            "Successfully installed filelock-3.20.0 fsspec-2025.9.0 huggingface_hub-0.36.0 safetensors-0.6.2 tokenizers-0.22.1 transformers-4.57.1\n"
          ]
        }
      ],
      "source": [
        "!pip install --upgrade transformers huggingface_hub"
      ]
    },
    {
      "cell_type": "code",
      "execution_count": 38,
      "metadata": {
        "id": "2Xy1d6pVDnuL"
      },
      "outputs": [
        {
          "name": "stderr",
          "output_type": "stream",
          "text": [
            "None of PyTorch, TensorFlow >= 2.0, or Flax have been found. Models won't be available and only tokenizers, configuration and file/data utilities can be used.\n"
          ]
        }
      ],
      "source": [
        "from transformers import AutoTokenizer # Tokenize our text for machine learning purposes\n",
        "from transformers import AutoModelForSequenceClassification\n",
        "from scipy.special import softmax # Apply to output to smooth out between 0 and 1"
      ]
    },
    {
      "cell_type": "code",
      "execution_count": 40,
      "metadata": {
        "colab": {
          "base_uri": "https://localhost:8080/",
          "height": 333,
          "referenced_widgets": [
            "ae30cfa6af1544dfa948e134e407745d",
            "72965d3e20b0431689f7372c8f7818e0",
            "8222899d2ff54262a22afcdaaff71afe",
            "181362aa883c498293f9cb468e8b6e3b",
            "c23b2aebba1f4ea8887a3217ced8082b",
            "69c53f7b8ebc498a913393963b95420e",
            "5492d7e2447f4a448836011b84e39597",
            "5ea4f4a9f1a147aaa5f9989bf34a5c66",
            "5e9c635686224ac88fa3d3bad3b9e54a",
            "0bd283fd5b094a7597400f1156919035",
            "69cf6cc701b44ef1ba97960e47d28063",
            "8a7907763c2a4be994636c23a1a1685b",
            "c295e1a00d01470d9c91cbb23c70b82d",
            "aa875a8b349941dcba5aaad831a8370b",
            "c27ce477fbe84ef5a4bf828c1d3d65be",
            "ccc506367ce34c009255d19c0d0fd3e6",
            "d3baadd4d0f84bf5af4a2904f5f30883",
            "8fe7a4905fff4a94b408302dc943cd91",
            "09ca869d28d3490991f33a76229230e9",
            "668ba7c143ce4263a16d8be78dfc3514",
            "4965699efc574e6c9568026f20fb9c62",
            "a59bbf2127db43bbb50d2372dd59d7f0",
            "ab11001839a14b6f9c6b592f5af1f367",
            "4fd1bf50826a4dc2b4238f70c0f3c0d6",
            "41cc623b7e694a598bae2b2357df961b",
            "5484bb88cc2c4b4cb0639a4885f359eb",
            "16fa1b06178441aab3dd4d7bd7507ba2",
            "1c69f119034947f7b9b97afb1233a0ef",
            "ee59d83e07fb4a33b0f086a4b25b4415",
            "7cf1d8720fed4fa289cb1cbcf6063b92",
            "04b42004f0964c3287d1b84e96163cca",
            "8c8c625817804e35be2982e47cdf2b39",
            "8ab74c09811a406393fb3f1f31989a5d",
            "032d1eeb74fc4a869f41edd5d734ffc3",
            "7b00fa8a86234c0b9c619b97e40529dc",
            "7622b5a26a79436d9a309d24452e18a2",
            "c816b266184249c5b33cf7165d0a9c5b",
            "220ee7a326e2401cab48b4497b9bb799",
            "bed7331ec38c4262a87efc7f3734ba83",
            "068e603bbf8744e18f94aa4c2174b4ad",
            "5f02ce6c14b14847a7c35ec37fde3d07",
            "54f2673e79004b138fe9503b33594eea",
            "bf358f276edf4577a0779c75a64f4d76",
            "2e1a1e06c1c14cc1bc2b5c98ffe91fd8",
            "8585bc3380654998ade26df5be671c48",
            "efb75a0ebb3c4fd59537711f4527e282",
            "33e92ed05b8b4efbbb86ba350b5c6471",
            "3b67e298413c4853a278bd0d9d0e1751",
            "13948aaa22d34242b155fec6be10f91a",
            "38c1bbe0729f44b5ae8a75c56bababca",
            "13dcd28050754ac98f947872f9515915",
            "7e6320658a5a4c6fb5fcc4362faa8fc6",
            "82b775cbd05b493e88329902cd1a19c3",
            "cd903d7815624b13a1db31b02c6d3b70",
            "092fdb0ee8df4f3ca67a02a65868780e",
            "759deaff57484bc79e8c4da7cdd969dd",
            "6ff356076e3b48df93940cff560fce16",
            "da16e23c08ca44e69066adb2e7256eba",
            "38e0c4d772f2453886507ff676e2e6aa",
            "04ab4001e9f145ae8d55ef40c30a3714",
            "95b89be55a9f43bb958f0fde9b3f4ae9",
            "da3920e59eb448f6b719645e9063d05c",
            "4bfe67b5078c44bcafc08fa6e5df8003",
            "7e9eb9e8bd074adab52995a2a3768f9e",
            "c1ee8edb429b41dc86c35559cb456b37",
            "4fa459f219364dd3b8d3fa448ae52cb0"
          ]
        },
        "id": "yy_-j_LMD5vP",
        "outputId": "8a09f1fc-1d73-4687-ee4f-c822258705a4"
      },
      "outputs": [
        {
          "ename": "ImportError",
          "evalue": "\nAutoModelForSequenceClassification requires the PyTorch library but it was not found in your environment. Check out the instructions on the\ninstallation page: https://pytorch.org/get-started/locally/ and follow the ones that match your environment.\nPlease note that you may need to restart your runtime after installation.\n",
          "output_type": "error",
          "traceback": [
            "\u001b[31m---------------------------------------------------------------------------\u001b[39m",
            "\u001b[31mImportError\u001b[39m                               Traceback (most recent call last)",
            "\u001b[36mCell\u001b[39m\u001b[36m \u001b[39m\u001b[32mIn[40]\u001b[39m\u001b[32m, line 4\u001b[39m\n\u001b[32m      2\u001b[39m MODEL = \u001b[33mf\u001b[39m\u001b[33m\"\u001b[39m\u001b[33mcardiffnlp/twitter-roberta-base-sentiment\u001b[39m\u001b[33m\"\u001b[39m\n\u001b[32m      3\u001b[39m tokenizer = AutoTokenizer.from_pretrained(MODEL)\n\u001b[32m----> \u001b[39m\u001b[32m4\u001b[39m model = AutoModelForSequenceClassification.from_pretrained(MODEL)\n",
            "\u001b[36mFile \u001b[39m\u001b[32mc:\\Users\\nivya\\anaconda3\\envs\\jupyter_env\\Lib\\site-packages\\transformers\\utils\\import_utils.py:2157\u001b[39m, in \u001b[36mDummyObject.__getattribute__\u001b[39m\u001b[34m(cls, key)\u001b[39m\n\u001b[32m   2155\u001b[39m \u001b[38;5;28;01mif\u001b[39;00m (key.startswith(\u001b[33m\"\u001b[39m\u001b[33m_\u001b[39m\u001b[33m\"\u001b[39m) \u001b[38;5;129;01mand\u001b[39;00m key != \u001b[33m\"\u001b[39m\u001b[33m_from_config\u001b[39m\u001b[33m\"\u001b[39m) \u001b[38;5;129;01mor\u001b[39;00m key == \u001b[33m\"\u001b[39m\u001b[33mis_dummy\u001b[39m\u001b[33m\"\u001b[39m \u001b[38;5;129;01mor\u001b[39;00m key == \u001b[33m\"\u001b[39m\u001b[33mmro\u001b[39m\u001b[33m\"\u001b[39m \u001b[38;5;129;01mor\u001b[39;00m key == \u001b[33m\"\u001b[39m\u001b[33mcall\u001b[39m\u001b[33m\"\u001b[39m:\n\u001b[32m   2156\u001b[39m     \u001b[38;5;28;01mreturn\u001b[39;00m \u001b[38;5;28msuper\u001b[39m().\u001b[34m__getattribute__\u001b[39m(key)\n\u001b[32m-> \u001b[39m\u001b[32m2157\u001b[39m requires_backends(\u001b[38;5;28mcls\u001b[39m, \u001b[38;5;28mcls\u001b[39m._backends)\n",
            "\u001b[36mFile \u001b[39m\u001b[32mc:\\Users\\nivya\\anaconda3\\envs\\jupyter_env\\Lib\\site-packages\\transformers\\utils\\import_utils.py:2143\u001b[39m, in \u001b[36mrequires_backends\u001b[39m\u001b[34m(obj, backends)\u001b[39m\n\u001b[32m   2140\u001b[39m         failed.append(msg.format(name))\n\u001b[32m   2142\u001b[39m \u001b[38;5;28;01mif\u001b[39;00m failed:\n\u001b[32m-> \u001b[39m\u001b[32m2143\u001b[39m     \u001b[38;5;28;01mraise\u001b[39;00m \u001b[38;5;167;01mImportError\u001b[39;00m(\u001b[33m\"\u001b[39m\u001b[33m\"\u001b[39m.join(failed))\n",
            "\u001b[31mImportError\u001b[39m: \nAutoModelForSequenceClassification requires the PyTorch library but it was not found in your environment. Check out the instructions on the\ninstallation page: https://pytorch.org/get-started/locally/ and follow the ones that match your environment.\nPlease note that you may need to restart your runtime after installation.\n"
          ]
        }
      ],
      "source": [
        "# Importing pre-trained model (trained on labeled tweets) with its weights\n",
        "MODEL = f\"cardiffnlp/twitter-roberta-base-sentiment\"\n",
        "tokenizer = AutoTokenizer.from_pretrained(MODEL)\n",
        "model = AutoModelForSequenceClassification.from_pretrained(MODEL)"
      ]
    },
    {
      "cell_type": "markdown",
      "metadata": {
        "id": "V3HMiqqZBESk"
      },
      "source": [
        "Compare VADER against Roberta"
      ]
    },
    {
      "cell_type": "code",
      "execution_count": 41,
      "metadata": {
        "colab": {
          "base_uri": "https://localhost:8080/"
        },
        "id": "8JlcboH8HTen",
        "outputId": "aa6bafcc-3c67-47a1-9b3e-b1c510a7fdd1"
      },
      "outputs": [
        {
          "name": "stdout",
          "output_type": "stream",
          "text": [
            "the same allah that let israel be created and beat the muslim worlds ass over and over?\n",
            "VADER results:\n",
            "{'neg': 0.171, 'neu': 0.732, 'pos': 0.098, 'compound': -0.3612}\n"
          ]
        }
      ],
      "source": [
        "# VADER results on example\n",
        "example = df['body'][2500]\n",
        "print(example)\n",
        "print(f\"VADER results:\\n{sia.polarity_scores(example)}\")"
      ]
    },
    {
      "cell_type": "code",
      "execution_count": null,
      "metadata": {
        "colab": {
          "base_uri": "https://localhost:8080/"
        },
        "id": "uir2PGsmBH33",
        "outputId": "b41af2b9-5149-49b0-dc1c-bafe6839fae4"
      },
      "outputs": [
        {
          "name": "stdout",
          "output_type": "stream",
          "text": [
            "{'roberta_neg': np.float32(0.8762319), 'roberta_neu': np.float32(0.12002205), 'roberta_pos': np.float32(0.0037461165)}\n"
          ]
        }
      ],
      "source": [
        "# Run for Roberta Model\n",
        "\n",
        "import numpy as np\n",
        "\n",
        "encoded_text = tokenizer(example, return_tensors='pt')\n",
        "output = model(**encoded_text)\n",
        "scores = output[0][0].detach().numpy()\n",
        "scores = softmax(scores)\n",
        "scores_dict = {\n",
        "    'roberta_neg' : scores[0],\n",
        "    'roberta_neu' : scores[1],\n",
        "    'roberta_pos' : scores[2]\n",
        "}\n",
        "\n",
        "print(scores_dict)"
      ]
    },
    {
      "cell_type": "markdown",
      "metadata": {
        "id": "P6V69hd9LSyn"
      },
      "source": [
        "HAD TO CUT EXCESS TOKENS WITH TRUNCATION=TRUE (CUT THE TEXT)"
      ]
    },
    {
      "cell_type": "code",
      "execution_count": 42,
      "metadata": {
        "colab": {
          "base_uri": "https://localhost:8080/",
          "height": 391
        },
        "id": "FxE7qYGCgKsi",
        "outputId": "7c0d4cf9-4450-47ce-b091-43dcb9ee4b78"
      },
      "outputs": [
        {
          "ename": "ImportError",
          "evalue": "Unable to convert output to PyTorch tensors format, PyTorch is not installed.",
          "output_type": "error",
          "traceback": [
            "\u001b[31m---------------------------------------------------------------------------\u001b[39m",
            "\u001b[31mImportError\u001b[39m                               Traceback (most recent call last)",
            "\u001b[36mCell\u001b[39m\u001b[36m \u001b[39m\u001b[32mIn[42]\u001b[39m\u001b[32m, line 25\u001b[39m\n\u001b[32m     22\u001b[39m new_columns = [\u001b[33m'\u001b[39m\u001b[33mroberta_positive\u001b[39m\u001b[33m'\u001b[39m, \u001b[33m'\u001b[39m\u001b[33mroberta_neutral\u001b[39m\u001b[33m'\u001b[39m, \u001b[33m'\u001b[39m\u001b[33mroberta_negative\u001b[39m\u001b[33m'\u001b[39m]\n\u001b[32m     24\u001b[39m \u001b[38;5;28;01mfor\u001b[39;00m i, column \u001b[38;5;129;01min\u001b[39;00m \u001b[38;5;28menumerate\u001b[39m(new_columns):\n\u001b[32m---> \u001b[39m\u001b[32m25\u001b[39m   df[column] = df[\u001b[33m'\u001b[39m\u001b[33mbody\u001b[39m\u001b[33m'\u001b[39m].apply(\u001b[38;5;28;01mlambda\u001b[39;00m x: polarity_scores_roberta(x)[i])\n\u001b[32m     27\u001b[39m df.head()\n",
            "\u001b[36mFile \u001b[39m\u001b[32mc:\\Users\\nivya\\anaconda3\\envs\\jupyter_env\\Lib\\site-packages\\pandas\\core\\series.py:4935\u001b[39m, in \u001b[36mSeries.apply\u001b[39m\u001b[34m(self, func, convert_dtype, args, by_row, **kwargs)\u001b[39m\n\u001b[32m   4800\u001b[39m \u001b[38;5;28;01mdef\u001b[39;00m\u001b[38;5;250m \u001b[39m\u001b[34mapply\u001b[39m(\n\u001b[32m   4801\u001b[39m     \u001b[38;5;28mself\u001b[39m,\n\u001b[32m   4802\u001b[39m     func: AggFuncType,\n\u001b[32m   (...)\u001b[39m\u001b[32m   4807\u001b[39m     **kwargs,\n\u001b[32m   4808\u001b[39m ) -> DataFrame | Series:\n\u001b[32m   4809\u001b[39m \u001b[38;5;250m    \u001b[39m\u001b[33;03m\"\"\"\u001b[39;00m\n\u001b[32m   4810\u001b[39m \u001b[33;03m    Invoke function on values of Series.\u001b[39;00m\n\u001b[32m   4811\u001b[39m \n\u001b[32m   (...)\u001b[39m\u001b[32m   4926\u001b[39m \u001b[33;03m    dtype: float64\u001b[39;00m\n\u001b[32m   4927\u001b[39m \u001b[33;03m    \"\"\"\u001b[39;00m\n\u001b[32m   4928\u001b[39m     \u001b[38;5;28;01mreturn\u001b[39;00m SeriesApply(\n\u001b[32m   4929\u001b[39m         \u001b[38;5;28mself\u001b[39m,\n\u001b[32m   4930\u001b[39m         func,\n\u001b[32m   4931\u001b[39m         convert_dtype=convert_dtype,\n\u001b[32m   4932\u001b[39m         by_row=by_row,\n\u001b[32m   4933\u001b[39m         args=args,\n\u001b[32m   4934\u001b[39m         kwargs=kwargs,\n\u001b[32m-> \u001b[39m\u001b[32m4935\u001b[39m     ).apply()\n",
            "\u001b[36mFile \u001b[39m\u001b[32mc:\\Users\\nivya\\anaconda3\\envs\\jupyter_env\\Lib\\site-packages\\pandas\\core\\apply.py:1422\u001b[39m, in \u001b[36mSeriesApply.apply\u001b[39m\u001b[34m(self)\u001b[39m\n\u001b[32m   1419\u001b[39m     \u001b[38;5;28;01mreturn\u001b[39;00m \u001b[38;5;28mself\u001b[39m.apply_compat()\n\u001b[32m   1421\u001b[39m \u001b[38;5;66;03m# self.func is Callable\u001b[39;00m\n\u001b[32m-> \u001b[39m\u001b[32m1422\u001b[39m \u001b[38;5;28;01mreturn\u001b[39;00m \u001b[38;5;28mself\u001b[39m.apply_standard()\n",
            "\u001b[36mFile \u001b[39m\u001b[32mc:\\Users\\nivya\\anaconda3\\envs\\jupyter_env\\Lib\\site-packages\\pandas\\core\\apply.py:1502\u001b[39m, in \u001b[36mSeriesApply.apply_standard\u001b[39m\u001b[34m(self)\u001b[39m\n\u001b[32m   1496\u001b[39m \u001b[38;5;66;03m# row-wise access\u001b[39;00m\n\u001b[32m   1497\u001b[39m \u001b[38;5;66;03m# apply doesn't have a `na_action` keyword and for backward compat reasons\u001b[39;00m\n\u001b[32m   1498\u001b[39m \u001b[38;5;66;03m# we need to give `na_action=\"ignore\"` for categorical data.\u001b[39;00m\n\u001b[32m   1499\u001b[39m \u001b[38;5;66;03m# TODO: remove the `na_action=\"ignore\"` when that default has been changed in\u001b[39;00m\n\u001b[32m   1500\u001b[39m \u001b[38;5;66;03m#  Categorical (GH51645).\u001b[39;00m\n\u001b[32m   1501\u001b[39m action = \u001b[33m\"\u001b[39m\u001b[33mignore\u001b[39m\u001b[33m\"\u001b[39m \u001b[38;5;28;01mif\u001b[39;00m \u001b[38;5;28misinstance\u001b[39m(obj.dtype, CategoricalDtype) \u001b[38;5;28;01melse\u001b[39;00m \u001b[38;5;28;01mNone\u001b[39;00m\n\u001b[32m-> \u001b[39m\u001b[32m1502\u001b[39m mapped = obj._map_values(\n\u001b[32m   1503\u001b[39m     mapper=curried, na_action=action, convert=\u001b[38;5;28mself\u001b[39m.convert_dtype\n\u001b[32m   1504\u001b[39m )\n\u001b[32m   1506\u001b[39m \u001b[38;5;28;01mif\u001b[39;00m \u001b[38;5;28mlen\u001b[39m(mapped) \u001b[38;5;129;01mand\u001b[39;00m \u001b[38;5;28misinstance\u001b[39m(mapped[\u001b[32m0\u001b[39m], ABCSeries):\n\u001b[32m   1507\u001b[39m     \u001b[38;5;66;03m# GH#43986 Need to do list(mapped) in order to get treated as nested\u001b[39;00m\n\u001b[32m   1508\u001b[39m     \u001b[38;5;66;03m#  See also GH#25959 regarding EA support\u001b[39;00m\n\u001b[32m   1509\u001b[39m     \u001b[38;5;28;01mreturn\u001b[39;00m obj._constructor_expanddim(\u001b[38;5;28mlist\u001b[39m(mapped), index=obj.index)\n",
            "\u001b[36mFile \u001b[39m\u001b[32mc:\\Users\\nivya\\anaconda3\\envs\\jupyter_env\\Lib\\site-packages\\pandas\\core\\base.py:925\u001b[39m, in \u001b[36mIndexOpsMixin._map_values\u001b[39m\u001b[34m(self, mapper, na_action, convert)\u001b[39m\n\u001b[32m    922\u001b[39m \u001b[38;5;28;01mif\u001b[39;00m \u001b[38;5;28misinstance\u001b[39m(arr, ExtensionArray):\n\u001b[32m    923\u001b[39m     \u001b[38;5;28;01mreturn\u001b[39;00m arr.map(mapper, na_action=na_action)\n\u001b[32m--> \u001b[39m\u001b[32m925\u001b[39m \u001b[38;5;28;01mreturn\u001b[39;00m algorithms.map_array(arr, mapper, na_action=na_action, convert=convert)\n",
            "\u001b[36mFile \u001b[39m\u001b[32mc:\\Users\\nivya\\anaconda3\\envs\\jupyter_env\\Lib\\site-packages\\pandas\\core\\algorithms.py:1743\u001b[39m, in \u001b[36mmap_array\u001b[39m\u001b[34m(arr, mapper, na_action, convert)\u001b[39m\n\u001b[32m   1741\u001b[39m values = arr.astype(\u001b[38;5;28mobject\u001b[39m, copy=\u001b[38;5;28;01mFalse\u001b[39;00m)\n\u001b[32m   1742\u001b[39m \u001b[38;5;28;01mif\u001b[39;00m na_action \u001b[38;5;129;01mis\u001b[39;00m \u001b[38;5;28;01mNone\u001b[39;00m:\n\u001b[32m-> \u001b[39m\u001b[32m1743\u001b[39m     \u001b[38;5;28;01mreturn\u001b[39;00m lib.map_infer(values, mapper, convert=convert)\n\u001b[32m   1744\u001b[39m \u001b[38;5;28;01melse\u001b[39;00m:\n\u001b[32m   1745\u001b[39m     \u001b[38;5;28;01mreturn\u001b[39;00m lib.map_infer_mask(\n\u001b[32m   1746\u001b[39m         values, mapper, mask=isna(values).view(np.uint8), convert=convert\n\u001b[32m   1747\u001b[39m     )\n",
            "\u001b[36mFile \u001b[39m\u001b[32mpandas/_libs/lib.pyx:2999\u001b[39m, in \u001b[36mpandas._libs.lib.map_infer\u001b[39m\u001b[34m()\u001b[39m\n",
            "\u001b[36mCell\u001b[39m\u001b[36m \u001b[39m\u001b[32mIn[42]\u001b[39m\u001b[32m, line 25\u001b[39m, in \u001b[36m<lambda>\u001b[39m\u001b[34m(x)\u001b[39m\n\u001b[32m     22\u001b[39m new_columns = [\u001b[33m'\u001b[39m\u001b[33mroberta_positive\u001b[39m\u001b[33m'\u001b[39m, \u001b[33m'\u001b[39m\u001b[33mroberta_neutral\u001b[39m\u001b[33m'\u001b[39m, \u001b[33m'\u001b[39m\u001b[33mroberta_negative\u001b[39m\u001b[33m'\u001b[39m]\n\u001b[32m     24\u001b[39m \u001b[38;5;28;01mfor\u001b[39;00m i, column \u001b[38;5;129;01min\u001b[39;00m \u001b[38;5;28menumerate\u001b[39m(new_columns):\n\u001b[32m---> \u001b[39m\u001b[32m25\u001b[39m   df[column] = df[\u001b[33m'\u001b[39m\u001b[33mbody\u001b[39m\u001b[33m'\u001b[39m].apply(\u001b[38;5;28;01mlambda\u001b[39;00m x: polarity_scores_roberta(x)[i])\n\u001b[32m     27\u001b[39m df.head()\n",
            "\u001b[36mCell\u001b[39m\u001b[36m \u001b[39m\u001b[32mIn[42]\u001b[39m\u001b[32m, line 9\u001b[39m, in \u001b[36mpolarity_scores_roberta\u001b[39m\u001b[34m(example)\u001b[39m\n\u001b[32m      4\u001b[39m \u001b[38;5;28;01mdef\u001b[39;00m\u001b[38;5;250m \u001b[39m\u001b[34mpolarity_scores_roberta\u001b[39m(example):\n\u001b[32m      5\u001b[39m \u001b[38;5;250m  \u001b[39m\u001b[33;03m'''\u001b[39;00m\n\u001b[32m      6\u001b[39m \u001b[33;03m  Takes a sample (text), tokenizes it and runs it through the Roberta model,\u001b[39;00m\n\u001b[32m      7\u001b[39m \u001b[33;03m  returns negative, neutral and positive scores\u001b[39;00m\n\u001b[32m      8\u001b[39m \u001b[33;03m  '''\u001b[39;00m\n\u001b[32m----> \u001b[39m\u001b[32m9\u001b[39m   encoded_text = tokenizer(\n\u001b[32m     10\u001b[39m       example,\n\u001b[32m     11\u001b[39m       return_tensors=\u001b[33m'\u001b[39m\u001b[33mpt\u001b[39m\u001b[33m'\u001b[39m,\n\u001b[32m     12\u001b[39m       truncation=\u001b[38;5;28;01mTrue\u001b[39;00m,\n\u001b[32m     13\u001b[39m       max_length=\u001b[32m512\u001b[39m)\n\u001b[32m     14\u001b[39m   output = model(**encoded_text)\n\u001b[32m     15\u001b[39m   scores = output[\u001b[32m0\u001b[39m][\u001b[32m0\u001b[39m].detach().numpy()\n",
            "\u001b[36mFile \u001b[39m\u001b[32mc:\\Users\\nivya\\anaconda3\\envs\\jupyter_env\\Lib\\site-packages\\transformers\\tokenization_utils_base.py:2938\u001b[39m, in \u001b[36mPreTrainedTokenizerBase.__call__\u001b[39m\u001b[34m(self, text, text_pair, text_target, text_pair_target, add_special_tokens, padding, truncation, max_length, stride, is_split_into_words, pad_to_multiple_of, padding_side, return_tensors, return_token_type_ids, return_attention_mask, return_overflowing_tokens, return_special_tokens_mask, return_offsets_mapping, return_length, verbose, **kwargs)\u001b[39m\n\u001b[32m   2936\u001b[39m     \u001b[38;5;28;01mif\u001b[39;00m \u001b[38;5;129;01mnot\u001b[39;00m \u001b[38;5;28mself\u001b[39m._in_target_context_manager:\n\u001b[32m   2937\u001b[39m         \u001b[38;5;28mself\u001b[39m._switch_to_input_mode()\n\u001b[32m-> \u001b[39m\u001b[32m2938\u001b[39m     encodings = \u001b[38;5;28mself\u001b[39m._call_one(text=text, text_pair=text_pair, **all_kwargs)\n\u001b[32m   2939\u001b[39m \u001b[38;5;28;01mif\u001b[39;00m text_target \u001b[38;5;129;01mis\u001b[39;00m \u001b[38;5;129;01mnot\u001b[39;00m \u001b[38;5;28;01mNone\u001b[39;00m:\n\u001b[32m   2940\u001b[39m     \u001b[38;5;28mself\u001b[39m._switch_to_target_mode()\n",
            "\u001b[36mFile \u001b[39m\u001b[32mc:\\Users\\nivya\\anaconda3\\envs\\jupyter_env\\Lib\\site-packages\\transformers\\tokenization_utils_base.py:3048\u001b[39m, in \u001b[36mPreTrainedTokenizerBase._call_one\u001b[39m\u001b[34m(self, text, text_pair, add_special_tokens, padding, truncation, max_length, stride, is_split_into_words, pad_to_multiple_of, padding_side, return_tensors, return_token_type_ids, return_attention_mask, return_overflowing_tokens, return_special_tokens_mask, return_offsets_mapping, return_length, verbose, split_special_tokens, **kwargs)\u001b[39m\n\u001b[32m   3026\u001b[39m     \u001b[38;5;28;01mreturn\u001b[39;00m \u001b[38;5;28mself\u001b[39m.batch_encode_plus(\n\u001b[32m   3027\u001b[39m         batch_text_or_text_pairs=batch_text_or_text_pairs,\n\u001b[32m   3028\u001b[39m         add_special_tokens=add_special_tokens,\n\u001b[32m   (...)\u001b[39m\u001b[32m   3045\u001b[39m         **kwargs,\n\u001b[32m   3046\u001b[39m     )\n\u001b[32m   3047\u001b[39m \u001b[38;5;28;01melse\u001b[39;00m:\n\u001b[32m-> \u001b[39m\u001b[32m3048\u001b[39m     \u001b[38;5;28;01mreturn\u001b[39;00m \u001b[38;5;28mself\u001b[39m.encode_plus(\n\u001b[32m   3049\u001b[39m         text=text,\n\u001b[32m   3050\u001b[39m         text_pair=text_pair,\n\u001b[32m   3051\u001b[39m         add_special_tokens=add_special_tokens,\n\u001b[32m   3052\u001b[39m         padding=padding,\n\u001b[32m   3053\u001b[39m         truncation=truncation,\n\u001b[32m   3054\u001b[39m         max_length=max_length,\n\u001b[32m   3055\u001b[39m         stride=stride,\n\u001b[32m   3056\u001b[39m         is_split_into_words=is_split_into_words,\n\u001b[32m   3057\u001b[39m         pad_to_multiple_of=pad_to_multiple_of,\n\u001b[32m   3058\u001b[39m         padding_side=padding_side,\n\u001b[32m   3059\u001b[39m         return_tensors=return_tensors,\n\u001b[32m   3060\u001b[39m         return_token_type_ids=return_token_type_ids,\n\u001b[32m   3061\u001b[39m         return_attention_mask=return_attention_mask,\n\u001b[32m   3062\u001b[39m         return_overflowing_tokens=return_overflowing_tokens,\n\u001b[32m   3063\u001b[39m         return_special_tokens_mask=return_special_tokens_mask,\n\u001b[32m   3064\u001b[39m         return_offsets_mapping=return_offsets_mapping,\n\u001b[32m   3065\u001b[39m         return_length=return_length,\n\u001b[32m   3066\u001b[39m         verbose=verbose,\n\u001b[32m   3067\u001b[39m         split_special_tokens=split_special_tokens,\n\u001b[32m   3068\u001b[39m         **kwargs,\n\u001b[32m   3069\u001b[39m     )\n",
            "\u001b[36mFile \u001b[39m\u001b[32mc:\\Users\\nivya\\anaconda3\\envs\\jupyter_env\\Lib\\site-packages\\transformers\\tokenization_utils_base.py:3123\u001b[39m, in \u001b[36mPreTrainedTokenizerBase.encode_plus\u001b[39m\u001b[34m(self, text, text_pair, add_special_tokens, padding, truncation, max_length, stride, is_split_into_words, pad_to_multiple_of, padding_side, return_tensors, return_token_type_ids, return_attention_mask, return_overflowing_tokens, return_special_tokens_mask, return_offsets_mapping, return_length, verbose, **kwargs)\u001b[39m\n\u001b[32m   3094\u001b[39m \u001b[38;5;250m\u001b[39m\u001b[33;03m\"\"\"\u001b[39;00m\n\u001b[32m   3095\u001b[39m \u001b[33;03mTokenize and prepare for the model a sequence or a pair of sequences.\u001b[39;00m\n\u001b[32m   3096\u001b[39m \n\u001b[32m   (...)\u001b[39m\u001b[32m   3111\u001b[39m \u001b[33;03m        method).\u001b[39;00m\n\u001b[32m   3112\u001b[39m \u001b[33;03m\"\"\"\u001b[39;00m\n\u001b[32m   3114\u001b[39m padding_strategy, truncation_strategy, max_length, kwargs = \u001b[38;5;28mself\u001b[39m._get_padding_truncation_strategies(\n\u001b[32m   3115\u001b[39m     padding=padding,\n\u001b[32m   3116\u001b[39m     truncation=truncation,\n\u001b[32m   (...)\u001b[39m\u001b[32m   3120\u001b[39m     **kwargs,\n\u001b[32m   3121\u001b[39m )\n\u001b[32m-> \u001b[39m\u001b[32m3123\u001b[39m \u001b[38;5;28;01mreturn\u001b[39;00m \u001b[38;5;28mself\u001b[39m._encode_plus(\n\u001b[32m   3124\u001b[39m     text=text,\n\u001b[32m   3125\u001b[39m     text_pair=text_pair,\n\u001b[32m   3126\u001b[39m     add_special_tokens=add_special_tokens,\n\u001b[32m   3127\u001b[39m     padding_strategy=padding_strategy,\n\u001b[32m   3128\u001b[39m     truncation_strategy=truncation_strategy,\n\u001b[32m   3129\u001b[39m     max_length=max_length,\n\u001b[32m   3130\u001b[39m     stride=stride,\n\u001b[32m   3131\u001b[39m     is_split_into_words=is_split_into_words,\n\u001b[32m   3132\u001b[39m     pad_to_multiple_of=pad_to_multiple_of,\n\u001b[32m   3133\u001b[39m     padding_side=padding_side,\n\u001b[32m   3134\u001b[39m     return_tensors=return_tensors,\n\u001b[32m   3135\u001b[39m     return_token_type_ids=return_token_type_ids,\n\u001b[32m   3136\u001b[39m     return_attention_mask=return_attention_mask,\n\u001b[32m   3137\u001b[39m     return_overflowing_tokens=return_overflowing_tokens,\n\u001b[32m   3138\u001b[39m     return_special_tokens_mask=return_special_tokens_mask,\n\u001b[32m   3139\u001b[39m     return_offsets_mapping=return_offsets_mapping,\n\u001b[32m   3140\u001b[39m     return_length=return_length,\n\u001b[32m   3141\u001b[39m     verbose=verbose,\n\u001b[32m   3142\u001b[39m     split_special_tokens=kwargs.pop(\u001b[33m\"\u001b[39m\u001b[33msplit_special_tokens\u001b[39m\u001b[33m\"\u001b[39m, \u001b[38;5;28mself\u001b[39m.split_special_tokens),\n\u001b[32m   3143\u001b[39m     **kwargs,\n\u001b[32m   3144\u001b[39m )\n",
            "\u001b[36mFile \u001b[39m\u001b[32mc:\\Users\\nivya\\anaconda3\\envs\\jupyter_env\\Lib\\site-packages\\transformers\\models\\roberta\\tokenization_roberta_fast.py:227\u001b[39m, in \u001b[36mRobertaTokenizerFast._encode_plus\u001b[39m\u001b[34m(self, *args, **kwargs)\u001b[39m\n\u001b[32m    220\u001b[39m is_split_into_words = kwargs.get(\u001b[33m\"\u001b[39m\u001b[33mis_split_into_words\u001b[39m\u001b[33m\"\u001b[39m, \u001b[38;5;28;01mFalse\u001b[39;00m)\n\u001b[32m    222\u001b[39m \u001b[38;5;28;01massert\u001b[39;00m \u001b[38;5;28mself\u001b[39m.add_prefix_space \u001b[38;5;129;01mor\u001b[39;00m \u001b[38;5;129;01mnot\u001b[39;00m is_split_into_words, (\n\u001b[32m    223\u001b[39m     \u001b[33mf\u001b[39m\u001b[33m\"\u001b[39m\u001b[33mYou need to instantiate \u001b[39m\u001b[38;5;132;01m{\u001b[39;00m\u001b[38;5;28mself\u001b[39m.\u001b[34m__class__\u001b[39m.\u001b[34m__name__\u001b[39m\u001b[38;5;132;01m}\u001b[39;00m\u001b[33m with add_prefix_space=True \u001b[39m\u001b[33m\"\u001b[39m\n\u001b[32m    224\u001b[39m     \u001b[33m\"\u001b[39m\u001b[33mto use it with pretokenized inputs.\u001b[39m\u001b[33m\"\u001b[39m\n\u001b[32m    225\u001b[39m )\n\u001b[32m--> \u001b[39m\u001b[32m227\u001b[39m \u001b[38;5;28;01mreturn\u001b[39;00m \u001b[38;5;28msuper\u001b[39m()._encode_plus(*args, **kwargs)\n",
            "\u001b[36mFile \u001b[39m\u001b[32mc:\\Users\\nivya\\anaconda3\\envs\\jupyter_env\\Lib\\site-packages\\transformers\\tokenization_utils_fast.py:627\u001b[39m, in \u001b[36mPreTrainedTokenizerFast._encode_plus\u001b[39m\u001b[34m(self, text, text_pair, add_special_tokens, padding_strategy, truncation_strategy, max_length, stride, is_split_into_words, pad_to_multiple_of, padding_side, return_tensors, return_token_type_ids, return_attention_mask, return_overflowing_tokens, return_special_tokens_mask, return_offsets_mapping, return_length, verbose, split_special_tokens, **kwargs)\u001b[39m\n\u001b[32m    603\u001b[39m \u001b[38;5;28;01mdef\u001b[39;00m\u001b[38;5;250m \u001b[39m\u001b[34m_encode_plus\u001b[39m(\n\u001b[32m    604\u001b[39m     \u001b[38;5;28mself\u001b[39m,\n\u001b[32m    605\u001b[39m     text: Union[TextInput, PreTokenizedInput],\n\u001b[32m   (...)\u001b[39m\u001b[32m    624\u001b[39m     **kwargs,\n\u001b[32m    625\u001b[39m ) -> BatchEncoding:\n\u001b[32m    626\u001b[39m     batched_input = [(text, text_pair)] \u001b[38;5;28;01mif\u001b[39;00m text_pair \u001b[38;5;28;01melse\u001b[39;00m [text]\n\u001b[32m--> \u001b[39m\u001b[32m627\u001b[39m     batched_output = \u001b[38;5;28mself\u001b[39m._batch_encode_plus(\n\u001b[32m    628\u001b[39m         batched_input,\n\u001b[32m    629\u001b[39m         is_split_into_words=is_split_into_words,\n\u001b[32m    630\u001b[39m         add_special_tokens=add_special_tokens,\n\u001b[32m    631\u001b[39m         padding_strategy=padding_strategy,\n\u001b[32m    632\u001b[39m         truncation_strategy=truncation_strategy,\n\u001b[32m    633\u001b[39m         max_length=max_length,\n\u001b[32m    634\u001b[39m         stride=stride,\n\u001b[32m    635\u001b[39m         pad_to_multiple_of=pad_to_multiple_of,\n\u001b[32m    636\u001b[39m         padding_side=padding_side,\n\u001b[32m    637\u001b[39m         return_tensors=return_tensors,\n\u001b[32m    638\u001b[39m         return_token_type_ids=return_token_type_ids,\n\u001b[32m    639\u001b[39m         return_attention_mask=return_attention_mask,\n\u001b[32m    640\u001b[39m         return_overflowing_tokens=return_overflowing_tokens,\n\u001b[32m    641\u001b[39m         return_special_tokens_mask=return_special_tokens_mask,\n\u001b[32m    642\u001b[39m         return_offsets_mapping=return_offsets_mapping,\n\u001b[32m    643\u001b[39m         return_length=return_length,\n\u001b[32m    644\u001b[39m         verbose=verbose,\n\u001b[32m    645\u001b[39m         split_special_tokens=split_special_tokens,\n\u001b[32m    646\u001b[39m         **kwargs,\n\u001b[32m    647\u001b[39m     )\n\u001b[32m    649\u001b[39m     \u001b[38;5;66;03m# Return tensor is None, then we can remove the leading batch axis\u001b[39;00m\n\u001b[32m    650\u001b[39m     \u001b[38;5;66;03m# Overflowing tokens are returned as a batch of output so we keep them in this case\u001b[39;00m\n\u001b[32m    651\u001b[39m     \u001b[38;5;28;01mif\u001b[39;00m return_tensors \u001b[38;5;129;01mis\u001b[39;00m \u001b[38;5;28;01mNone\u001b[39;00m \u001b[38;5;129;01mand\u001b[39;00m \u001b[38;5;129;01mnot\u001b[39;00m return_overflowing_tokens:\n",
            "\u001b[36mFile \u001b[39m\u001b[32mc:\\Users\\nivya\\anaconda3\\envs\\jupyter_env\\Lib\\site-packages\\transformers\\models\\roberta\\tokenization_roberta_fast.py:217\u001b[39m, in \u001b[36mRobertaTokenizerFast._batch_encode_plus\u001b[39m\u001b[34m(self, *args, **kwargs)\u001b[39m\n\u001b[32m    211\u001b[39m is_split_into_words = kwargs.get(\u001b[33m\"\u001b[39m\u001b[33mis_split_into_words\u001b[39m\u001b[33m\"\u001b[39m, \u001b[38;5;28;01mFalse\u001b[39;00m)\n\u001b[32m    212\u001b[39m \u001b[38;5;28;01massert\u001b[39;00m \u001b[38;5;28mself\u001b[39m.add_prefix_space \u001b[38;5;129;01mor\u001b[39;00m \u001b[38;5;129;01mnot\u001b[39;00m is_split_into_words, (\n\u001b[32m    213\u001b[39m     \u001b[33mf\u001b[39m\u001b[33m\"\u001b[39m\u001b[33mYou need to instantiate \u001b[39m\u001b[38;5;132;01m{\u001b[39;00m\u001b[38;5;28mself\u001b[39m.\u001b[34m__class__\u001b[39m.\u001b[34m__name__\u001b[39m\u001b[38;5;132;01m}\u001b[39;00m\u001b[33m with add_prefix_space=True \u001b[39m\u001b[33m\"\u001b[39m\n\u001b[32m    214\u001b[39m     \u001b[33m\"\u001b[39m\u001b[33mto use it with pretokenized inputs.\u001b[39m\u001b[33m\"\u001b[39m\n\u001b[32m    215\u001b[39m )\n\u001b[32m--> \u001b[39m\u001b[32m217\u001b[39m \u001b[38;5;28;01mreturn\u001b[39;00m \u001b[38;5;28msuper\u001b[39m()._batch_encode_plus(*args, **kwargs)\n",
            "\u001b[36mFile \u001b[39m\u001b[32mc:\\Users\\nivya\\anaconda3\\envs\\jupyter_env\\Lib\\site-packages\\transformers\\tokenization_utils_fast.py:601\u001b[39m, in \u001b[36mPreTrainedTokenizerFast._batch_encode_plus\u001b[39m\u001b[34m(self, batch_text_or_text_pairs, add_special_tokens, padding_strategy, truncation_strategy, max_length, stride, is_split_into_words, pad_to_multiple_of, padding_side, return_tensors, return_token_type_ids, return_attention_mask, return_overflowing_tokens, return_special_tokens_mask, return_offsets_mapping, return_length, verbose, split_special_tokens)\u001b[39m\n\u001b[32m    599\u001b[39m \u001b[38;5;28;01mfor\u001b[39;00m input_ids \u001b[38;5;129;01min\u001b[39;00m sanitized_tokens[\u001b[33m\"\u001b[39m\u001b[33minput_ids\u001b[39m\u001b[33m\"\u001b[39m]:\n\u001b[32m    600\u001b[39m     \u001b[38;5;28mself\u001b[39m._eventual_warn_about_too_long_sequence(input_ids, max_length, verbose)\n\u001b[32m--> \u001b[39m\u001b[32m601\u001b[39m \u001b[38;5;28;01mreturn\u001b[39;00m BatchEncoding(sanitized_tokens, sanitized_encodings, tensor_type=return_tensors)\n",
            "\u001b[36mFile \u001b[39m\u001b[32mc:\\Users\\nivya\\anaconda3\\envs\\jupyter_env\\Lib\\site-packages\\transformers\\tokenization_utils_base.py:248\u001b[39m, in \u001b[36mBatchEncoding.__init__\u001b[39m\u001b[34m(self, data, encoding, tensor_type, prepend_batch_axis, n_sequences)\u001b[39m\n\u001b[32m    244\u001b[39m     n_sequences = encoding[\u001b[32m0\u001b[39m].n_sequences\n\u001b[32m    246\u001b[39m \u001b[38;5;28mself\u001b[39m._n_sequences = n_sequences\n\u001b[32m--> \u001b[39m\u001b[32m248\u001b[39m \u001b[38;5;28mself\u001b[39m.convert_to_tensors(tensor_type=tensor_type, prepend_batch_axis=prepend_batch_axis)\n",
            "\u001b[36mFile \u001b[39m\u001b[32mc:\\Users\\nivya\\anaconda3\\envs\\jupyter_env\\Lib\\site-packages\\transformers\\tokenization_utils_base.py:734\u001b[39m, in \u001b[36mBatchEncoding.convert_to_tensors\u001b[39m\u001b[34m(self, tensor_type, prepend_batch_axis)\u001b[39m\n\u001b[32m    732\u001b[39m \u001b[38;5;28;01melif\u001b[39;00m tensor_type == TensorType.PYTORCH:\n\u001b[32m    733\u001b[39m     \u001b[38;5;28;01mif\u001b[39;00m \u001b[38;5;129;01mnot\u001b[39;00m is_torch_available():\n\u001b[32m--> \u001b[39m\u001b[32m734\u001b[39m         \u001b[38;5;28;01mraise\u001b[39;00m \u001b[38;5;167;01mImportError\u001b[39;00m(\u001b[33m\"\u001b[39m\u001b[33mUnable to convert output to PyTorch tensors format, PyTorch is not installed.\u001b[39m\u001b[33m\"\u001b[39m)\n\u001b[32m    735\u001b[39m     \u001b[38;5;28;01mimport\u001b[39;00m\u001b[38;5;250m \u001b[39m\u001b[34;01mtorch\u001b[39;00m\n\u001b[32m    737\u001b[39m     \u001b[38;5;28;01mdef\u001b[39;00m\u001b[38;5;250m \u001b[39m\u001b[34mas_tensor\u001b[39m(value, dtype=\u001b[38;5;28;01mNone\u001b[39;00m):\n",
            "\u001b[31mImportError\u001b[39m: Unable to convert output to PyTorch tensors format, PyTorch is not installed."
          ]
        }
      ],
      "source": [
        "# Run the Roberta Model on the entire dataset\n",
        "\n",
        "# Define function to apply Roberta model to 'body' samples\n",
        "def polarity_scores_roberta(example):\n",
        "  '''\n",
        "  Takes a sample (text), tokenizes it and runs it through the Roberta model,\n",
        "  returns negative, neutral and positive scores\n",
        "  '''\n",
        "  encoded_text = tokenizer(\n",
        "      example,\n",
        "      return_tensors='pt',\n",
        "      truncation=True,\n",
        "      max_length=512)\n",
        "  output = model(**encoded_text)\n",
        "  scores = output[0][0].detach().numpy()\n",
        "  scores = softmax(scores)\n",
        "  scores_list = [scores[0], scores[1], scores[2]]\n",
        "\n",
        "  return scores_list\n",
        "\n",
        "# Apply polarity_scores_roberta function to 'body' feature\n",
        "new_columns = ['roberta_positive', 'roberta_neutral', 'roberta_negative']\n",
        "\n",
        "for i, column in enumerate(new_columns):\n",
        "  df[column] = df['body'].apply(lambda x: polarity_scores_roberta(x)[i])\n",
        "\n",
        "df.head()"
      ]
    },
    {
      "cell_type": "code",
      "execution_count": null,
      "metadata": {
        "id": "u7u09mRwJHSG"
      },
      "outputs": [],
      "source": [
        "# Plot distribution of sentiment scores across time periods"
      ]
    },
    {
      "cell_type": "code",
      "execution_count": null,
      "metadata": {
        "id": "JqW7m-QKyCP3"
      },
      "outputs": [],
      "source": [
        "# add a new column to out dataframe to see if it's before, during or after depending on the date range"
      ]
    }
  ],
  "metadata": {
    "colab": {
      "provenance": []
    },
    "kernelspec": {
      "display_name": "jupyter_env",
      "language": "python",
      "name": "python3"
    },
    "language_info": {
      "codemirror_mode": {
        "name": "ipython",
        "version": 3
      },
      "file_extension": ".py",
      "mimetype": "text/x-python",
      "name": "python",
      "nbconvert_exporter": "python",
      "pygments_lexer": "ipython3",
      "version": "3.12.11"
    },
    "widgets": {
      "application/vnd.jupyter.widget-state+json": {
        "032d1eeb74fc4a869f41edd5d734ffc3": {
          "model_module": "@jupyter-widgets/controls",
          "model_module_version": "1.5.0",
          "model_name": "HBoxModel",
          "state": {
            "_dom_classes": [],
            "_model_module": "@jupyter-widgets/controls",
            "_model_module_version": "1.5.0",
            "_model_name": "HBoxModel",
            "_view_count": null,
            "_view_module": "@jupyter-widgets/controls",
            "_view_module_version": "1.5.0",
            "_view_name": "HBoxView",
            "box_style": "",
            "children": [
              "IPY_MODEL_7b00fa8a86234c0b9c619b97e40529dc",
              "IPY_MODEL_7622b5a26a79436d9a309d24452e18a2",
              "IPY_MODEL_c816b266184249c5b33cf7165d0a9c5b"
            ],
            "layout": "IPY_MODEL_220ee7a326e2401cab48b4497b9bb799"
          }
        },
        "04ab4001e9f145ae8d55ef40c30a3714": {
          "model_module": "@jupyter-widgets/base",
          "model_module_version": "1.2.0",
          "model_name": "LayoutModel",
          "state": {
            "_model_module": "@jupyter-widgets/base",
            "_model_module_version": "1.2.0",
            "_model_name": "LayoutModel",
            "_view_count": null,
            "_view_module": "@jupyter-widgets/base",
            "_view_module_version": "1.2.0",
            "_view_name": "LayoutView",
            "align_content": null,
            "align_items": null,
            "align_self": null,
            "border": null,
            "bottom": null,
            "display": null,
            "flex": null,
            "flex_flow": null,
            "grid_area": null,
            "grid_auto_columns": null,
            "grid_auto_flow": null,
            "grid_auto_rows": null,
            "grid_column": null,
            "grid_gap": null,
            "grid_row": null,
            "grid_template_areas": null,
            "grid_template_columns": null,
            "grid_template_rows": null,
            "height": null,
            "justify_content": null,
            "justify_items": null,
            "left": null,
            "margin": null,
            "max_height": null,
            "max_width": null,
            "min_height": null,
            "min_width": null,
            "object_fit": null,
            "object_position": null,
            "order": null,
            "overflow": null,
            "overflow_x": null,
            "overflow_y": null,
            "padding": null,
            "right": null,
            "top": null,
            "visibility": null,
            "width": null
          }
        },
        "04b42004f0964c3287d1b84e96163cca": {
          "model_module": "@jupyter-widgets/controls",
          "model_module_version": "1.5.0",
          "model_name": "ProgressStyleModel",
          "state": {
            "_model_module": "@jupyter-widgets/controls",
            "_model_module_version": "1.5.0",
            "_model_name": "ProgressStyleModel",
            "_view_count": null,
            "_view_module": "@jupyter-widgets/base",
            "_view_module_version": "1.2.0",
            "_view_name": "StyleView",
            "bar_color": null,
            "description_width": ""
          }
        },
        "068e603bbf8744e18f94aa4c2174b4ad": {
          "model_module": "@jupyter-widgets/controls",
          "model_module_version": "1.5.0",
          "model_name": "DescriptionStyleModel",
          "state": {
            "_model_module": "@jupyter-widgets/controls",
            "_model_module_version": "1.5.0",
            "_model_name": "DescriptionStyleModel",
            "_view_count": null,
            "_view_module": "@jupyter-widgets/base",
            "_view_module_version": "1.2.0",
            "_view_name": "StyleView",
            "description_width": ""
          }
        },
        "092fdb0ee8df4f3ca67a02a65868780e": {
          "model_module": "@jupyter-widgets/controls",
          "model_module_version": "1.5.0",
          "model_name": "DescriptionStyleModel",
          "state": {
            "_model_module": "@jupyter-widgets/controls",
            "_model_module_version": "1.5.0",
            "_model_name": "DescriptionStyleModel",
            "_view_count": null,
            "_view_module": "@jupyter-widgets/base",
            "_view_module_version": "1.2.0",
            "_view_name": "StyleView",
            "description_width": ""
          }
        },
        "09ca869d28d3490991f33a76229230e9": {
          "model_module": "@jupyter-widgets/base",
          "model_module_version": "1.2.0",
          "model_name": "LayoutModel",
          "state": {
            "_model_module": "@jupyter-widgets/base",
            "_model_module_version": "1.2.0",
            "_model_name": "LayoutModel",
            "_view_count": null,
            "_view_module": "@jupyter-widgets/base",
            "_view_module_version": "1.2.0",
            "_view_name": "LayoutView",
            "align_content": null,
            "align_items": null,
            "align_self": null,
            "border": null,
            "bottom": null,
            "display": null,
            "flex": null,
            "flex_flow": null,
            "grid_area": null,
            "grid_auto_columns": null,
            "grid_auto_flow": null,
            "grid_auto_rows": null,
            "grid_column": null,
            "grid_gap": null,
            "grid_row": null,
            "grid_template_areas": null,
            "grid_template_columns": null,
            "grid_template_rows": null,
            "height": null,
            "justify_content": null,
            "justify_items": null,
            "left": null,
            "margin": null,
            "max_height": null,
            "max_width": null,
            "min_height": null,
            "min_width": null,
            "object_fit": null,
            "object_position": null,
            "order": null,
            "overflow": null,
            "overflow_x": null,
            "overflow_y": null,
            "padding": null,
            "right": null,
            "top": null,
            "visibility": null,
            "width": "20px"
          }
        },
        "0bd283fd5b094a7597400f1156919035": {
          "model_module": "@jupyter-widgets/base",
          "model_module_version": "1.2.0",
          "model_name": "LayoutModel",
          "state": {
            "_model_module": "@jupyter-widgets/base",
            "_model_module_version": "1.2.0",
            "_model_name": "LayoutModel",
            "_view_count": null,
            "_view_module": "@jupyter-widgets/base",
            "_view_module_version": "1.2.0",
            "_view_name": "LayoutView",
            "align_content": null,
            "align_items": null,
            "align_self": null,
            "border": null,
            "bottom": null,
            "display": null,
            "flex": null,
            "flex_flow": null,
            "grid_area": null,
            "grid_auto_columns": null,
            "grid_auto_flow": null,
            "grid_auto_rows": null,
            "grid_column": null,
            "grid_gap": null,
            "grid_row": null,
            "grid_template_areas": null,
            "grid_template_columns": null,
            "grid_template_rows": null,
            "height": null,
            "justify_content": null,
            "justify_items": null,
            "left": null,
            "margin": null,
            "max_height": null,
            "max_width": null,
            "min_height": null,
            "min_width": null,
            "object_fit": null,
            "object_position": null,
            "order": null,
            "overflow": null,
            "overflow_x": null,
            "overflow_y": null,
            "padding": null,
            "right": null,
            "top": null,
            "visibility": null,
            "width": null
          }
        },
        "13948aaa22d34242b155fec6be10f91a": {
          "model_module": "@jupyter-widgets/base",
          "model_module_version": "1.2.0",
          "model_name": "LayoutModel",
          "state": {
            "_model_module": "@jupyter-widgets/base",
            "_model_module_version": "1.2.0",
            "_model_name": "LayoutModel",
            "_view_count": null,
            "_view_module": "@jupyter-widgets/base",
            "_view_module_version": "1.2.0",
            "_view_name": "LayoutView",
            "align_content": null,
            "align_items": null,
            "align_self": null,
            "border": null,
            "bottom": null,
            "display": null,
            "flex": null,
            "flex_flow": null,
            "grid_area": null,
            "grid_auto_columns": null,
            "grid_auto_flow": null,
            "grid_auto_rows": null,
            "grid_column": null,
            "grid_gap": null,
            "grid_row": null,
            "grid_template_areas": null,
            "grid_template_columns": null,
            "grid_template_rows": null,
            "height": null,
            "justify_content": null,
            "justify_items": null,
            "left": null,
            "margin": null,
            "max_height": null,
            "max_width": null,
            "min_height": null,
            "min_width": null,
            "object_fit": null,
            "object_position": null,
            "order": null,
            "overflow": null,
            "overflow_x": null,
            "overflow_y": null,
            "padding": null,
            "right": null,
            "top": null,
            "visibility": null,
            "width": null
          }
        },
        "13dcd28050754ac98f947872f9515915": {
          "model_module": "@jupyter-widgets/controls",
          "model_module_version": "1.5.0",
          "model_name": "DescriptionStyleModel",
          "state": {
            "_model_module": "@jupyter-widgets/controls",
            "_model_module_version": "1.5.0",
            "_model_name": "DescriptionStyleModel",
            "_view_count": null,
            "_view_module": "@jupyter-widgets/base",
            "_view_module_version": "1.2.0",
            "_view_name": "StyleView",
            "description_width": ""
          }
        },
        "16fa1b06178441aab3dd4d7bd7507ba2": {
          "model_module": "@jupyter-widgets/base",
          "model_module_version": "1.2.0",
          "model_name": "LayoutModel",
          "state": {
            "_model_module": "@jupyter-widgets/base",
            "_model_module_version": "1.2.0",
            "_model_name": "LayoutModel",
            "_view_count": null,
            "_view_module": "@jupyter-widgets/base",
            "_view_module_version": "1.2.0",
            "_view_name": "LayoutView",
            "align_content": null,
            "align_items": null,
            "align_self": null,
            "border": null,
            "bottom": null,
            "display": null,
            "flex": null,
            "flex_flow": null,
            "grid_area": null,
            "grid_auto_columns": null,
            "grid_auto_flow": null,
            "grid_auto_rows": null,
            "grid_column": null,
            "grid_gap": null,
            "grid_row": null,
            "grid_template_areas": null,
            "grid_template_columns": null,
            "grid_template_rows": null,
            "height": null,
            "justify_content": null,
            "justify_items": null,
            "left": null,
            "margin": null,
            "max_height": null,
            "max_width": null,
            "min_height": null,
            "min_width": null,
            "object_fit": null,
            "object_position": null,
            "order": null,
            "overflow": null,
            "overflow_x": null,
            "overflow_y": null,
            "padding": null,
            "right": null,
            "top": null,
            "visibility": null,
            "width": null
          }
        },
        "181362aa883c498293f9cb468e8b6e3b": {
          "model_module": "@jupyter-widgets/controls",
          "model_module_version": "1.5.0",
          "model_name": "HTMLModel",
          "state": {
            "_dom_classes": [],
            "_model_module": "@jupyter-widgets/controls",
            "_model_module_version": "1.5.0",
            "_model_name": "HTMLModel",
            "_view_count": null,
            "_view_module": "@jupyter-widgets/controls",
            "_view_module_version": "1.5.0",
            "_view_name": "HTMLView",
            "description": "",
            "description_tooltip": null,
            "layout": "IPY_MODEL_0bd283fd5b094a7597400f1156919035",
            "placeholder": "​",
            "style": "IPY_MODEL_69cf6cc701b44ef1ba97960e47d28063",
            "value": " 747/747 [00:00&lt;00:00, 20.1kB/s]"
          }
        },
        "1c69f119034947f7b9b97afb1233a0ef": {
          "model_module": "@jupyter-widgets/base",
          "model_module_version": "1.2.0",
          "model_name": "LayoutModel",
          "state": {
            "_model_module": "@jupyter-widgets/base",
            "_model_module_version": "1.2.0",
            "_model_name": "LayoutModel",
            "_view_count": null,
            "_view_module": "@jupyter-widgets/base",
            "_view_module_version": "1.2.0",
            "_view_name": "LayoutView",
            "align_content": null,
            "align_items": null,
            "align_self": null,
            "border": null,
            "bottom": null,
            "display": null,
            "flex": null,
            "flex_flow": null,
            "grid_area": null,
            "grid_auto_columns": null,
            "grid_auto_flow": null,
            "grid_auto_rows": null,
            "grid_column": null,
            "grid_gap": null,
            "grid_row": null,
            "grid_template_areas": null,
            "grid_template_columns": null,
            "grid_template_rows": null,
            "height": null,
            "justify_content": null,
            "justify_items": null,
            "left": null,
            "margin": null,
            "max_height": null,
            "max_width": null,
            "min_height": null,
            "min_width": null,
            "object_fit": null,
            "object_position": null,
            "order": null,
            "overflow": null,
            "overflow_x": null,
            "overflow_y": null,
            "padding": null,
            "right": null,
            "top": null,
            "visibility": null,
            "width": null
          }
        },
        "220ee7a326e2401cab48b4497b9bb799": {
          "model_module": "@jupyter-widgets/base",
          "model_module_version": "1.2.0",
          "model_name": "LayoutModel",
          "state": {
            "_model_module": "@jupyter-widgets/base",
            "_model_module_version": "1.2.0",
            "_model_name": "LayoutModel",
            "_view_count": null,
            "_view_module": "@jupyter-widgets/base",
            "_view_module_version": "1.2.0",
            "_view_name": "LayoutView",
            "align_content": null,
            "align_items": null,
            "align_self": null,
            "border": null,
            "bottom": null,
            "display": null,
            "flex": null,
            "flex_flow": null,
            "grid_area": null,
            "grid_auto_columns": null,
            "grid_auto_flow": null,
            "grid_auto_rows": null,
            "grid_column": null,
            "grid_gap": null,
            "grid_row": null,
            "grid_template_areas": null,
            "grid_template_columns": null,
            "grid_template_rows": null,
            "height": null,
            "justify_content": null,
            "justify_items": null,
            "left": null,
            "margin": null,
            "max_height": null,
            "max_width": null,
            "min_height": null,
            "min_width": null,
            "object_fit": null,
            "object_position": null,
            "order": null,
            "overflow": null,
            "overflow_x": null,
            "overflow_y": null,
            "padding": null,
            "right": null,
            "top": null,
            "visibility": null,
            "width": null
          }
        },
        "2e1a1e06c1c14cc1bc2b5c98ffe91fd8": {
          "model_module": "@jupyter-widgets/controls",
          "model_module_version": "1.5.0",
          "model_name": "DescriptionStyleModel",
          "state": {
            "_model_module": "@jupyter-widgets/controls",
            "_model_module_version": "1.5.0",
            "_model_name": "DescriptionStyleModel",
            "_view_count": null,
            "_view_module": "@jupyter-widgets/base",
            "_view_module_version": "1.2.0",
            "_view_name": "StyleView",
            "description_width": ""
          }
        },
        "33e92ed05b8b4efbbb86ba350b5c6471": {
          "model_module": "@jupyter-widgets/controls",
          "model_module_version": "1.5.0",
          "model_name": "FloatProgressModel",
          "state": {
            "_dom_classes": [],
            "_model_module": "@jupyter-widgets/controls",
            "_model_module_version": "1.5.0",
            "_model_name": "FloatProgressModel",
            "_view_count": null,
            "_view_module": "@jupyter-widgets/controls",
            "_view_module_version": "1.5.0",
            "_view_name": "ProgressView",
            "bar_style": "success",
            "description": "",
            "description_tooltip": null,
            "layout": "IPY_MODEL_7e6320658a5a4c6fb5fcc4362faa8fc6",
            "max": 498679497,
            "min": 0,
            "orientation": "horizontal",
            "style": "IPY_MODEL_82b775cbd05b493e88329902cd1a19c3",
            "value": 498679497
          }
        },
        "38c1bbe0729f44b5ae8a75c56bababca": {
          "model_module": "@jupyter-widgets/base",
          "model_module_version": "1.2.0",
          "model_name": "LayoutModel",
          "state": {
            "_model_module": "@jupyter-widgets/base",
            "_model_module_version": "1.2.0",
            "_model_name": "LayoutModel",
            "_view_count": null,
            "_view_module": "@jupyter-widgets/base",
            "_view_module_version": "1.2.0",
            "_view_name": "LayoutView",
            "align_content": null,
            "align_items": null,
            "align_self": null,
            "border": null,
            "bottom": null,
            "display": null,
            "flex": null,
            "flex_flow": null,
            "grid_area": null,
            "grid_auto_columns": null,
            "grid_auto_flow": null,
            "grid_auto_rows": null,
            "grid_column": null,
            "grid_gap": null,
            "grid_row": null,
            "grid_template_areas": null,
            "grid_template_columns": null,
            "grid_template_rows": null,
            "height": null,
            "justify_content": null,
            "justify_items": null,
            "left": null,
            "margin": null,
            "max_height": null,
            "max_width": null,
            "min_height": null,
            "min_width": null,
            "object_fit": null,
            "object_position": null,
            "order": null,
            "overflow": null,
            "overflow_x": null,
            "overflow_y": null,
            "padding": null,
            "right": null,
            "top": null,
            "visibility": null,
            "width": null
          }
        },
        "38e0c4d772f2453886507ff676e2e6aa": {
          "model_module": "@jupyter-widgets/controls",
          "model_module_version": "1.5.0",
          "model_name": "HTMLModel",
          "state": {
            "_dom_classes": [],
            "_model_module": "@jupyter-widgets/controls",
            "_model_module_version": "1.5.0",
            "_model_name": "HTMLModel",
            "_view_count": null,
            "_view_module": "@jupyter-widgets/controls",
            "_view_module_version": "1.5.0",
            "_view_name": "HTMLView",
            "description": "",
            "description_tooltip": null,
            "layout": "IPY_MODEL_c1ee8edb429b41dc86c35559cb456b37",
            "placeholder": "​",
            "style": "IPY_MODEL_4fa459f219364dd3b8d3fa448ae52cb0",
            "value": " 499M/499M [00:04&lt;00:00, 119MB/s]"
          }
        },
        "3b67e298413c4853a278bd0d9d0e1751": {
          "model_module": "@jupyter-widgets/controls",
          "model_module_version": "1.5.0",
          "model_name": "HTMLModel",
          "state": {
            "_dom_classes": [],
            "_model_module": "@jupyter-widgets/controls",
            "_model_module_version": "1.5.0",
            "_model_name": "HTMLModel",
            "_view_count": null,
            "_view_module": "@jupyter-widgets/controls",
            "_view_module_version": "1.5.0",
            "_view_name": "HTMLView",
            "description": "",
            "description_tooltip": null,
            "layout": "IPY_MODEL_cd903d7815624b13a1db31b02c6d3b70",
            "placeholder": "​",
            "style": "IPY_MODEL_092fdb0ee8df4f3ca67a02a65868780e",
            "value": " 499M/499M [00:15&lt;00:00, 35.7MB/s]"
          }
        },
        "41cc623b7e694a598bae2b2357df961b": {
          "model_module": "@jupyter-widgets/controls",
          "model_module_version": "1.5.0",
          "model_name": "FloatProgressModel",
          "state": {
            "_dom_classes": [],
            "_model_module": "@jupyter-widgets/controls",
            "_model_module_version": "1.5.0",
            "_model_name": "FloatProgressModel",
            "_view_count": null,
            "_view_module": "@jupyter-widgets/controls",
            "_view_module_version": "1.5.0",
            "_view_name": "ProgressView",
            "bar_style": "success",
            "description": "",
            "description_tooltip": null,
            "layout": "IPY_MODEL_7cf1d8720fed4fa289cb1cbcf6063b92",
            "max": 1,
            "min": 0,
            "orientation": "horizontal",
            "style": "IPY_MODEL_04b42004f0964c3287d1b84e96163cca",
            "value": 1
          }
        },
        "4965699efc574e6c9568026f20fb9c62": {
          "model_module": "@jupyter-widgets/base",
          "model_module_version": "1.2.0",
          "model_name": "LayoutModel",
          "state": {
            "_model_module": "@jupyter-widgets/base",
            "_model_module_version": "1.2.0",
            "_model_name": "LayoutModel",
            "_view_count": null,
            "_view_module": "@jupyter-widgets/base",
            "_view_module_version": "1.2.0",
            "_view_name": "LayoutView",
            "align_content": null,
            "align_items": null,
            "align_self": null,
            "border": null,
            "bottom": null,
            "display": null,
            "flex": null,
            "flex_flow": null,
            "grid_area": null,
            "grid_auto_columns": null,
            "grid_auto_flow": null,
            "grid_auto_rows": null,
            "grid_column": null,
            "grid_gap": null,
            "grid_row": null,
            "grid_template_areas": null,
            "grid_template_columns": null,
            "grid_template_rows": null,
            "height": null,
            "justify_content": null,
            "justify_items": null,
            "left": null,
            "margin": null,
            "max_height": null,
            "max_width": null,
            "min_height": null,
            "min_width": null,
            "object_fit": null,
            "object_position": null,
            "order": null,
            "overflow": null,
            "overflow_x": null,
            "overflow_y": null,
            "padding": null,
            "right": null,
            "top": null,
            "visibility": null,
            "width": null
          }
        },
        "4bfe67b5078c44bcafc08fa6e5df8003": {
          "model_module": "@jupyter-widgets/base",
          "model_module_version": "1.2.0",
          "model_name": "LayoutModel",
          "state": {
            "_model_module": "@jupyter-widgets/base",
            "_model_module_version": "1.2.0",
            "_model_name": "LayoutModel",
            "_view_count": null,
            "_view_module": "@jupyter-widgets/base",
            "_view_module_version": "1.2.0",
            "_view_name": "LayoutView",
            "align_content": null,
            "align_items": null,
            "align_self": null,
            "border": null,
            "bottom": null,
            "display": null,
            "flex": null,
            "flex_flow": null,
            "grid_area": null,
            "grid_auto_columns": null,
            "grid_auto_flow": null,
            "grid_auto_rows": null,
            "grid_column": null,
            "grid_gap": null,
            "grid_row": null,
            "grid_template_areas": null,
            "grid_template_columns": null,
            "grid_template_rows": null,
            "height": null,
            "justify_content": null,
            "justify_items": null,
            "left": null,
            "margin": null,
            "max_height": null,
            "max_width": null,
            "min_height": null,
            "min_width": null,
            "object_fit": null,
            "object_position": null,
            "order": null,
            "overflow": null,
            "overflow_x": null,
            "overflow_y": null,
            "padding": null,
            "right": null,
            "top": null,
            "visibility": null,
            "width": null
          }
        },
        "4fa459f219364dd3b8d3fa448ae52cb0": {
          "model_module": "@jupyter-widgets/controls",
          "model_module_version": "1.5.0",
          "model_name": "DescriptionStyleModel",
          "state": {
            "_model_module": "@jupyter-widgets/controls",
            "_model_module_version": "1.5.0",
            "_model_name": "DescriptionStyleModel",
            "_view_count": null,
            "_view_module": "@jupyter-widgets/base",
            "_view_module_version": "1.2.0",
            "_view_name": "StyleView",
            "description_width": ""
          }
        },
        "4fd1bf50826a4dc2b4238f70c0f3c0d6": {
          "model_module": "@jupyter-widgets/controls",
          "model_module_version": "1.5.0",
          "model_name": "HTMLModel",
          "state": {
            "_dom_classes": [],
            "_model_module": "@jupyter-widgets/controls",
            "_model_module_version": "1.5.0",
            "_model_name": "HTMLModel",
            "_view_count": null,
            "_view_module": "@jupyter-widgets/controls",
            "_view_module_version": "1.5.0",
            "_view_name": "HTMLView",
            "description": "",
            "description_tooltip": null,
            "layout": "IPY_MODEL_1c69f119034947f7b9b97afb1233a0ef",
            "placeholder": "​",
            "style": "IPY_MODEL_ee59d83e07fb4a33b0f086a4b25b4415",
            "value": "merges.txt: "
          }
        },
        "5484bb88cc2c4b4cb0639a4885f359eb": {
          "model_module": "@jupyter-widgets/controls",
          "model_module_version": "1.5.0",
          "model_name": "HTMLModel",
          "state": {
            "_dom_classes": [],
            "_model_module": "@jupyter-widgets/controls",
            "_model_module_version": "1.5.0",
            "_model_name": "HTMLModel",
            "_view_count": null,
            "_view_module": "@jupyter-widgets/controls",
            "_view_module_version": "1.5.0",
            "_view_name": "HTMLView",
            "description": "",
            "description_tooltip": null,
            "layout": "IPY_MODEL_8c8c625817804e35be2982e47cdf2b39",
            "placeholder": "​",
            "style": "IPY_MODEL_8ab74c09811a406393fb3f1f31989a5d",
            "value": " 456k/? [00:00&lt;00:00, 4.55MB/s]"
          }
        },
        "5492d7e2447f4a448836011b84e39597": {
          "model_module": "@jupyter-widgets/controls",
          "model_module_version": "1.5.0",
          "model_name": "DescriptionStyleModel",
          "state": {
            "_model_module": "@jupyter-widgets/controls",
            "_model_module_version": "1.5.0",
            "_model_name": "DescriptionStyleModel",
            "_view_count": null,
            "_view_module": "@jupyter-widgets/base",
            "_view_module_version": "1.2.0",
            "_view_name": "StyleView",
            "description_width": ""
          }
        },
        "54f2673e79004b138fe9503b33594eea": {
          "model_module": "@jupyter-widgets/controls",
          "model_module_version": "1.5.0",
          "model_name": "ProgressStyleModel",
          "state": {
            "_model_module": "@jupyter-widgets/controls",
            "_model_module_version": "1.5.0",
            "_model_name": "ProgressStyleModel",
            "_view_count": null,
            "_view_module": "@jupyter-widgets/base",
            "_view_module_version": "1.2.0",
            "_view_name": "StyleView",
            "bar_color": null,
            "description_width": ""
          }
        },
        "5e9c635686224ac88fa3d3bad3b9e54a": {
          "model_module": "@jupyter-widgets/controls",
          "model_module_version": "1.5.0",
          "model_name": "ProgressStyleModel",
          "state": {
            "_model_module": "@jupyter-widgets/controls",
            "_model_module_version": "1.5.0",
            "_model_name": "ProgressStyleModel",
            "_view_count": null,
            "_view_module": "@jupyter-widgets/base",
            "_view_module_version": "1.2.0",
            "_view_name": "StyleView",
            "bar_color": null,
            "description_width": ""
          }
        },
        "5ea4f4a9f1a147aaa5f9989bf34a5c66": {
          "model_module": "@jupyter-widgets/base",
          "model_module_version": "1.2.0",
          "model_name": "LayoutModel",
          "state": {
            "_model_module": "@jupyter-widgets/base",
            "_model_module_version": "1.2.0",
            "_model_name": "LayoutModel",
            "_view_count": null,
            "_view_module": "@jupyter-widgets/base",
            "_view_module_version": "1.2.0",
            "_view_name": "LayoutView",
            "align_content": null,
            "align_items": null,
            "align_self": null,
            "border": null,
            "bottom": null,
            "display": null,
            "flex": null,
            "flex_flow": null,
            "grid_area": null,
            "grid_auto_columns": null,
            "grid_auto_flow": null,
            "grid_auto_rows": null,
            "grid_column": null,
            "grid_gap": null,
            "grid_row": null,
            "grid_template_areas": null,
            "grid_template_columns": null,
            "grid_template_rows": null,
            "height": null,
            "justify_content": null,
            "justify_items": null,
            "left": null,
            "margin": null,
            "max_height": null,
            "max_width": null,
            "min_height": null,
            "min_width": null,
            "object_fit": null,
            "object_position": null,
            "order": null,
            "overflow": null,
            "overflow_x": null,
            "overflow_y": null,
            "padding": null,
            "right": null,
            "top": null,
            "visibility": null,
            "width": null
          }
        },
        "5f02ce6c14b14847a7c35ec37fde3d07": {
          "model_module": "@jupyter-widgets/base",
          "model_module_version": "1.2.0",
          "model_name": "LayoutModel",
          "state": {
            "_model_module": "@jupyter-widgets/base",
            "_model_module_version": "1.2.0",
            "_model_name": "LayoutModel",
            "_view_count": null,
            "_view_module": "@jupyter-widgets/base",
            "_view_module_version": "1.2.0",
            "_view_name": "LayoutView",
            "align_content": null,
            "align_items": null,
            "align_self": null,
            "border": null,
            "bottom": null,
            "display": null,
            "flex": null,
            "flex_flow": null,
            "grid_area": null,
            "grid_auto_columns": null,
            "grid_auto_flow": null,
            "grid_auto_rows": null,
            "grid_column": null,
            "grid_gap": null,
            "grid_row": null,
            "grid_template_areas": null,
            "grid_template_columns": null,
            "grid_template_rows": null,
            "height": null,
            "justify_content": null,
            "justify_items": null,
            "left": null,
            "margin": null,
            "max_height": null,
            "max_width": null,
            "min_height": null,
            "min_width": null,
            "object_fit": null,
            "object_position": null,
            "order": null,
            "overflow": null,
            "overflow_x": null,
            "overflow_y": null,
            "padding": null,
            "right": null,
            "top": null,
            "visibility": null,
            "width": null
          }
        },
        "668ba7c143ce4263a16d8be78dfc3514": {
          "model_module": "@jupyter-widgets/controls",
          "model_module_version": "1.5.0",
          "model_name": "ProgressStyleModel",
          "state": {
            "_model_module": "@jupyter-widgets/controls",
            "_model_module_version": "1.5.0",
            "_model_name": "ProgressStyleModel",
            "_view_count": null,
            "_view_module": "@jupyter-widgets/base",
            "_view_module_version": "1.2.0",
            "_view_name": "StyleView",
            "bar_color": null,
            "description_width": ""
          }
        },
        "69c53f7b8ebc498a913393963b95420e": {
          "model_module": "@jupyter-widgets/base",
          "model_module_version": "1.2.0",
          "model_name": "LayoutModel",
          "state": {
            "_model_module": "@jupyter-widgets/base",
            "_model_module_version": "1.2.0",
            "_model_name": "LayoutModel",
            "_view_count": null,
            "_view_module": "@jupyter-widgets/base",
            "_view_module_version": "1.2.0",
            "_view_name": "LayoutView",
            "align_content": null,
            "align_items": null,
            "align_self": null,
            "border": null,
            "bottom": null,
            "display": null,
            "flex": null,
            "flex_flow": null,
            "grid_area": null,
            "grid_auto_columns": null,
            "grid_auto_flow": null,
            "grid_auto_rows": null,
            "grid_column": null,
            "grid_gap": null,
            "grid_row": null,
            "grid_template_areas": null,
            "grid_template_columns": null,
            "grid_template_rows": null,
            "height": null,
            "justify_content": null,
            "justify_items": null,
            "left": null,
            "margin": null,
            "max_height": null,
            "max_width": null,
            "min_height": null,
            "min_width": null,
            "object_fit": null,
            "object_position": null,
            "order": null,
            "overflow": null,
            "overflow_x": null,
            "overflow_y": null,
            "padding": null,
            "right": null,
            "top": null,
            "visibility": null,
            "width": null
          }
        },
        "69cf6cc701b44ef1ba97960e47d28063": {
          "model_module": "@jupyter-widgets/controls",
          "model_module_version": "1.5.0",
          "model_name": "DescriptionStyleModel",
          "state": {
            "_model_module": "@jupyter-widgets/controls",
            "_model_module_version": "1.5.0",
            "_model_name": "DescriptionStyleModel",
            "_view_count": null,
            "_view_module": "@jupyter-widgets/base",
            "_view_module_version": "1.2.0",
            "_view_name": "StyleView",
            "description_width": ""
          }
        },
        "6ff356076e3b48df93940cff560fce16": {
          "model_module": "@jupyter-widgets/controls",
          "model_module_version": "1.5.0",
          "model_name": "HTMLModel",
          "state": {
            "_dom_classes": [],
            "_model_module": "@jupyter-widgets/controls",
            "_model_module_version": "1.5.0",
            "_model_name": "HTMLModel",
            "_view_count": null,
            "_view_module": "@jupyter-widgets/controls",
            "_view_module_version": "1.5.0",
            "_view_name": "HTMLView",
            "description": "",
            "description_tooltip": null,
            "layout": "IPY_MODEL_95b89be55a9f43bb958f0fde9b3f4ae9",
            "placeholder": "​",
            "style": "IPY_MODEL_da3920e59eb448f6b719645e9063d05c",
            "value": "model.safetensors: 100%"
          }
        },
        "72965d3e20b0431689f7372c8f7818e0": {
          "model_module": "@jupyter-widgets/controls",
          "model_module_version": "1.5.0",
          "model_name": "HTMLModel",
          "state": {
            "_dom_classes": [],
            "_model_module": "@jupyter-widgets/controls",
            "_model_module_version": "1.5.0",
            "_model_name": "HTMLModel",
            "_view_count": null,
            "_view_module": "@jupyter-widgets/controls",
            "_view_module_version": "1.5.0",
            "_view_name": "HTMLView",
            "description": "",
            "description_tooltip": null,
            "layout": "IPY_MODEL_69c53f7b8ebc498a913393963b95420e",
            "placeholder": "​",
            "style": "IPY_MODEL_5492d7e2447f4a448836011b84e39597",
            "value": "config.json: 100%"
          }
        },
        "759deaff57484bc79e8c4da7cdd969dd": {
          "model_module": "@jupyter-widgets/controls",
          "model_module_version": "1.5.0",
          "model_name": "HBoxModel",
          "state": {
            "_dom_classes": [],
            "_model_module": "@jupyter-widgets/controls",
            "_model_module_version": "1.5.0",
            "_model_name": "HBoxModel",
            "_view_count": null,
            "_view_module": "@jupyter-widgets/controls",
            "_view_module_version": "1.5.0",
            "_view_name": "HBoxView",
            "box_style": "",
            "children": [
              "IPY_MODEL_6ff356076e3b48df93940cff560fce16",
              "IPY_MODEL_da16e23c08ca44e69066adb2e7256eba",
              "IPY_MODEL_38e0c4d772f2453886507ff676e2e6aa"
            ],
            "layout": "IPY_MODEL_04ab4001e9f145ae8d55ef40c30a3714"
          }
        },
        "7622b5a26a79436d9a309d24452e18a2": {
          "model_module": "@jupyter-widgets/controls",
          "model_module_version": "1.5.0",
          "model_name": "FloatProgressModel",
          "state": {
            "_dom_classes": [],
            "_model_module": "@jupyter-widgets/controls",
            "_model_module_version": "1.5.0",
            "_model_name": "FloatProgressModel",
            "_view_count": null,
            "_view_module": "@jupyter-widgets/controls",
            "_view_module_version": "1.5.0",
            "_view_name": "ProgressView",
            "bar_style": "success",
            "description": "",
            "description_tooltip": null,
            "layout": "IPY_MODEL_5f02ce6c14b14847a7c35ec37fde3d07",
            "max": 150,
            "min": 0,
            "orientation": "horizontal",
            "style": "IPY_MODEL_54f2673e79004b138fe9503b33594eea",
            "value": 150
          }
        },
        "7b00fa8a86234c0b9c619b97e40529dc": {
          "model_module": "@jupyter-widgets/controls",
          "model_module_version": "1.5.0",
          "model_name": "HTMLModel",
          "state": {
            "_dom_classes": [],
            "_model_module": "@jupyter-widgets/controls",
            "_model_module_version": "1.5.0",
            "_model_name": "HTMLModel",
            "_view_count": null,
            "_view_module": "@jupyter-widgets/controls",
            "_view_module_version": "1.5.0",
            "_view_name": "HTMLView",
            "description": "",
            "description_tooltip": null,
            "layout": "IPY_MODEL_bed7331ec38c4262a87efc7f3734ba83",
            "placeholder": "​",
            "style": "IPY_MODEL_068e603bbf8744e18f94aa4c2174b4ad",
            "value": "special_tokens_map.json: 100%"
          }
        },
        "7cf1d8720fed4fa289cb1cbcf6063b92": {
          "model_module": "@jupyter-widgets/base",
          "model_module_version": "1.2.0",
          "model_name": "LayoutModel",
          "state": {
            "_model_module": "@jupyter-widgets/base",
            "_model_module_version": "1.2.0",
            "_model_name": "LayoutModel",
            "_view_count": null,
            "_view_module": "@jupyter-widgets/base",
            "_view_module_version": "1.2.0",
            "_view_name": "LayoutView",
            "align_content": null,
            "align_items": null,
            "align_self": null,
            "border": null,
            "bottom": null,
            "display": null,
            "flex": null,
            "flex_flow": null,
            "grid_area": null,
            "grid_auto_columns": null,
            "grid_auto_flow": null,
            "grid_auto_rows": null,
            "grid_column": null,
            "grid_gap": null,
            "grid_row": null,
            "grid_template_areas": null,
            "grid_template_columns": null,
            "grid_template_rows": null,
            "height": null,
            "justify_content": null,
            "justify_items": null,
            "left": null,
            "margin": null,
            "max_height": null,
            "max_width": null,
            "min_height": null,
            "min_width": null,
            "object_fit": null,
            "object_position": null,
            "order": null,
            "overflow": null,
            "overflow_x": null,
            "overflow_y": null,
            "padding": null,
            "right": null,
            "top": null,
            "visibility": null,
            "width": "20px"
          }
        },
        "7e6320658a5a4c6fb5fcc4362faa8fc6": {
          "model_module": "@jupyter-widgets/base",
          "model_module_version": "1.2.0",
          "model_name": "LayoutModel",
          "state": {
            "_model_module": "@jupyter-widgets/base",
            "_model_module_version": "1.2.0",
            "_model_name": "LayoutModel",
            "_view_count": null,
            "_view_module": "@jupyter-widgets/base",
            "_view_module_version": "1.2.0",
            "_view_name": "LayoutView",
            "align_content": null,
            "align_items": null,
            "align_self": null,
            "border": null,
            "bottom": null,
            "display": null,
            "flex": null,
            "flex_flow": null,
            "grid_area": null,
            "grid_auto_columns": null,
            "grid_auto_flow": null,
            "grid_auto_rows": null,
            "grid_column": null,
            "grid_gap": null,
            "grid_row": null,
            "grid_template_areas": null,
            "grid_template_columns": null,
            "grid_template_rows": null,
            "height": null,
            "justify_content": null,
            "justify_items": null,
            "left": null,
            "margin": null,
            "max_height": null,
            "max_width": null,
            "min_height": null,
            "min_width": null,
            "object_fit": null,
            "object_position": null,
            "order": null,
            "overflow": null,
            "overflow_x": null,
            "overflow_y": null,
            "padding": null,
            "right": null,
            "top": null,
            "visibility": null,
            "width": null
          }
        },
        "7e9eb9e8bd074adab52995a2a3768f9e": {
          "model_module": "@jupyter-widgets/controls",
          "model_module_version": "1.5.0",
          "model_name": "ProgressStyleModel",
          "state": {
            "_model_module": "@jupyter-widgets/controls",
            "_model_module_version": "1.5.0",
            "_model_name": "ProgressStyleModel",
            "_view_count": null,
            "_view_module": "@jupyter-widgets/base",
            "_view_module_version": "1.2.0",
            "_view_name": "StyleView",
            "bar_color": null,
            "description_width": ""
          }
        },
        "8222899d2ff54262a22afcdaaff71afe": {
          "model_module": "@jupyter-widgets/controls",
          "model_module_version": "1.5.0",
          "model_name": "FloatProgressModel",
          "state": {
            "_dom_classes": [],
            "_model_module": "@jupyter-widgets/controls",
            "_model_module_version": "1.5.0",
            "_model_name": "FloatProgressModel",
            "_view_count": null,
            "_view_module": "@jupyter-widgets/controls",
            "_view_module_version": "1.5.0",
            "_view_name": "ProgressView",
            "bar_style": "success",
            "description": "",
            "description_tooltip": null,
            "layout": "IPY_MODEL_5ea4f4a9f1a147aaa5f9989bf34a5c66",
            "max": 747,
            "min": 0,
            "orientation": "horizontal",
            "style": "IPY_MODEL_5e9c635686224ac88fa3d3bad3b9e54a",
            "value": 747
          }
        },
        "82b775cbd05b493e88329902cd1a19c3": {
          "model_module": "@jupyter-widgets/controls",
          "model_module_version": "1.5.0",
          "model_name": "ProgressStyleModel",
          "state": {
            "_model_module": "@jupyter-widgets/controls",
            "_model_module_version": "1.5.0",
            "_model_name": "ProgressStyleModel",
            "_view_count": null,
            "_view_module": "@jupyter-widgets/base",
            "_view_module_version": "1.2.0",
            "_view_name": "StyleView",
            "bar_color": null,
            "description_width": ""
          }
        },
        "8585bc3380654998ade26df5be671c48": {
          "model_module": "@jupyter-widgets/controls",
          "model_module_version": "1.5.0",
          "model_name": "HBoxModel",
          "state": {
            "_dom_classes": [],
            "_model_module": "@jupyter-widgets/controls",
            "_model_module_version": "1.5.0",
            "_model_name": "HBoxModel",
            "_view_count": null,
            "_view_module": "@jupyter-widgets/controls",
            "_view_module_version": "1.5.0",
            "_view_name": "HBoxView",
            "box_style": "",
            "children": [
              "IPY_MODEL_efb75a0ebb3c4fd59537711f4527e282",
              "IPY_MODEL_33e92ed05b8b4efbbb86ba350b5c6471",
              "IPY_MODEL_3b67e298413c4853a278bd0d9d0e1751"
            ],
            "layout": "IPY_MODEL_13948aaa22d34242b155fec6be10f91a"
          }
        },
        "8a7907763c2a4be994636c23a1a1685b": {
          "model_module": "@jupyter-widgets/controls",
          "model_module_version": "1.5.0",
          "model_name": "HBoxModel",
          "state": {
            "_dom_classes": [],
            "_model_module": "@jupyter-widgets/controls",
            "_model_module_version": "1.5.0",
            "_model_name": "HBoxModel",
            "_view_count": null,
            "_view_module": "@jupyter-widgets/controls",
            "_view_module_version": "1.5.0",
            "_view_name": "HBoxView",
            "box_style": "",
            "children": [
              "IPY_MODEL_c295e1a00d01470d9c91cbb23c70b82d",
              "IPY_MODEL_aa875a8b349941dcba5aaad831a8370b",
              "IPY_MODEL_c27ce477fbe84ef5a4bf828c1d3d65be"
            ],
            "layout": "IPY_MODEL_ccc506367ce34c009255d19c0d0fd3e6"
          }
        },
        "8ab74c09811a406393fb3f1f31989a5d": {
          "model_module": "@jupyter-widgets/controls",
          "model_module_version": "1.5.0",
          "model_name": "DescriptionStyleModel",
          "state": {
            "_model_module": "@jupyter-widgets/controls",
            "_model_module_version": "1.5.0",
            "_model_name": "DescriptionStyleModel",
            "_view_count": null,
            "_view_module": "@jupyter-widgets/base",
            "_view_module_version": "1.2.0",
            "_view_name": "StyleView",
            "description_width": ""
          }
        },
        "8c8c625817804e35be2982e47cdf2b39": {
          "model_module": "@jupyter-widgets/base",
          "model_module_version": "1.2.0",
          "model_name": "LayoutModel",
          "state": {
            "_model_module": "@jupyter-widgets/base",
            "_model_module_version": "1.2.0",
            "_model_name": "LayoutModel",
            "_view_count": null,
            "_view_module": "@jupyter-widgets/base",
            "_view_module_version": "1.2.0",
            "_view_name": "LayoutView",
            "align_content": null,
            "align_items": null,
            "align_self": null,
            "border": null,
            "bottom": null,
            "display": null,
            "flex": null,
            "flex_flow": null,
            "grid_area": null,
            "grid_auto_columns": null,
            "grid_auto_flow": null,
            "grid_auto_rows": null,
            "grid_column": null,
            "grid_gap": null,
            "grid_row": null,
            "grid_template_areas": null,
            "grid_template_columns": null,
            "grid_template_rows": null,
            "height": null,
            "justify_content": null,
            "justify_items": null,
            "left": null,
            "margin": null,
            "max_height": null,
            "max_width": null,
            "min_height": null,
            "min_width": null,
            "object_fit": null,
            "object_position": null,
            "order": null,
            "overflow": null,
            "overflow_x": null,
            "overflow_y": null,
            "padding": null,
            "right": null,
            "top": null,
            "visibility": null,
            "width": null
          }
        },
        "8fe7a4905fff4a94b408302dc943cd91": {
          "model_module": "@jupyter-widgets/controls",
          "model_module_version": "1.5.0",
          "model_name": "DescriptionStyleModel",
          "state": {
            "_model_module": "@jupyter-widgets/controls",
            "_model_module_version": "1.5.0",
            "_model_name": "DescriptionStyleModel",
            "_view_count": null,
            "_view_module": "@jupyter-widgets/base",
            "_view_module_version": "1.2.0",
            "_view_name": "StyleView",
            "description_width": ""
          }
        },
        "95b89be55a9f43bb958f0fde9b3f4ae9": {
          "model_module": "@jupyter-widgets/base",
          "model_module_version": "1.2.0",
          "model_name": "LayoutModel",
          "state": {
            "_model_module": "@jupyter-widgets/base",
            "_model_module_version": "1.2.0",
            "_model_name": "LayoutModel",
            "_view_count": null,
            "_view_module": "@jupyter-widgets/base",
            "_view_module_version": "1.2.0",
            "_view_name": "LayoutView",
            "align_content": null,
            "align_items": null,
            "align_self": null,
            "border": null,
            "bottom": null,
            "display": null,
            "flex": null,
            "flex_flow": null,
            "grid_area": null,
            "grid_auto_columns": null,
            "grid_auto_flow": null,
            "grid_auto_rows": null,
            "grid_column": null,
            "grid_gap": null,
            "grid_row": null,
            "grid_template_areas": null,
            "grid_template_columns": null,
            "grid_template_rows": null,
            "height": null,
            "justify_content": null,
            "justify_items": null,
            "left": null,
            "margin": null,
            "max_height": null,
            "max_width": null,
            "min_height": null,
            "min_width": null,
            "object_fit": null,
            "object_position": null,
            "order": null,
            "overflow": null,
            "overflow_x": null,
            "overflow_y": null,
            "padding": null,
            "right": null,
            "top": null,
            "visibility": null,
            "width": null
          }
        },
        "a59bbf2127db43bbb50d2372dd59d7f0": {
          "model_module": "@jupyter-widgets/controls",
          "model_module_version": "1.5.0",
          "model_name": "DescriptionStyleModel",
          "state": {
            "_model_module": "@jupyter-widgets/controls",
            "_model_module_version": "1.5.0",
            "_model_name": "DescriptionStyleModel",
            "_view_count": null,
            "_view_module": "@jupyter-widgets/base",
            "_view_module_version": "1.2.0",
            "_view_name": "StyleView",
            "description_width": ""
          }
        },
        "aa875a8b349941dcba5aaad831a8370b": {
          "model_module": "@jupyter-widgets/controls",
          "model_module_version": "1.5.0",
          "model_name": "FloatProgressModel",
          "state": {
            "_dom_classes": [],
            "_model_module": "@jupyter-widgets/controls",
            "_model_module_version": "1.5.0",
            "_model_name": "FloatProgressModel",
            "_view_count": null,
            "_view_module": "@jupyter-widgets/controls",
            "_view_module_version": "1.5.0",
            "_view_name": "ProgressView",
            "bar_style": "success",
            "description": "",
            "description_tooltip": null,
            "layout": "IPY_MODEL_09ca869d28d3490991f33a76229230e9",
            "max": 1,
            "min": 0,
            "orientation": "horizontal",
            "style": "IPY_MODEL_668ba7c143ce4263a16d8be78dfc3514",
            "value": 1
          }
        },
        "ab11001839a14b6f9c6b592f5af1f367": {
          "model_module": "@jupyter-widgets/controls",
          "model_module_version": "1.5.0",
          "model_name": "HBoxModel",
          "state": {
            "_dom_classes": [],
            "_model_module": "@jupyter-widgets/controls",
            "_model_module_version": "1.5.0",
            "_model_name": "HBoxModel",
            "_view_count": null,
            "_view_module": "@jupyter-widgets/controls",
            "_view_module_version": "1.5.0",
            "_view_name": "HBoxView",
            "box_style": "",
            "children": [
              "IPY_MODEL_4fd1bf50826a4dc2b4238f70c0f3c0d6",
              "IPY_MODEL_41cc623b7e694a598bae2b2357df961b",
              "IPY_MODEL_5484bb88cc2c4b4cb0639a4885f359eb"
            ],
            "layout": "IPY_MODEL_16fa1b06178441aab3dd4d7bd7507ba2"
          }
        },
        "ae30cfa6af1544dfa948e134e407745d": {
          "model_module": "@jupyter-widgets/controls",
          "model_module_version": "1.5.0",
          "model_name": "HBoxModel",
          "state": {
            "_dom_classes": [],
            "_model_module": "@jupyter-widgets/controls",
            "_model_module_version": "1.5.0",
            "_model_name": "HBoxModel",
            "_view_count": null,
            "_view_module": "@jupyter-widgets/controls",
            "_view_module_version": "1.5.0",
            "_view_name": "HBoxView",
            "box_style": "",
            "children": [
              "IPY_MODEL_72965d3e20b0431689f7372c8f7818e0",
              "IPY_MODEL_8222899d2ff54262a22afcdaaff71afe",
              "IPY_MODEL_181362aa883c498293f9cb468e8b6e3b"
            ],
            "layout": "IPY_MODEL_c23b2aebba1f4ea8887a3217ced8082b"
          }
        },
        "bed7331ec38c4262a87efc7f3734ba83": {
          "model_module": "@jupyter-widgets/base",
          "model_module_version": "1.2.0",
          "model_name": "LayoutModel",
          "state": {
            "_model_module": "@jupyter-widgets/base",
            "_model_module_version": "1.2.0",
            "_model_name": "LayoutModel",
            "_view_count": null,
            "_view_module": "@jupyter-widgets/base",
            "_view_module_version": "1.2.0",
            "_view_name": "LayoutView",
            "align_content": null,
            "align_items": null,
            "align_self": null,
            "border": null,
            "bottom": null,
            "display": null,
            "flex": null,
            "flex_flow": null,
            "grid_area": null,
            "grid_auto_columns": null,
            "grid_auto_flow": null,
            "grid_auto_rows": null,
            "grid_column": null,
            "grid_gap": null,
            "grid_row": null,
            "grid_template_areas": null,
            "grid_template_columns": null,
            "grid_template_rows": null,
            "height": null,
            "justify_content": null,
            "justify_items": null,
            "left": null,
            "margin": null,
            "max_height": null,
            "max_width": null,
            "min_height": null,
            "min_width": null,
            "object_fit": null,
            "object_position": null,
            "order": null,
            "overflow": null,
            "overflow_x": null,
            "overflow_y": null,
            "padding": null,
            "right": null,
            "top": null,
            "visibility": null,
            "width": null
          }
        },
        "bf358f276edf4577a0779c75a64f4d76": {
          "model_module": "@jupyter-widgets/base",
          "model_module_version": "1.2.0",
          "model_name": "LayoutModel",
          "state": {
            "_model_module": "@jupyter-widgets/base",
            "_model_module_version": "1.2.0",
            "_model_name": "LayoutModel",
            "_view_count": null,
            "_view_module": "@jupyter-widgets/base",
            "_view_module_version": "1.2.0",
            "_view_name": "LayoutView",
            "align_content": null,
            "align_items": null,
            "align_self": null,
            "border": null,
            "bottom": null,
            "display": null,
            "flex": null,
            "flex_flow": null,
            "grid_area": null,
            "grid_auto_columns": null,
            "grid_auto_flow": null,
            "grid_auto_rows": null,
            "grid_column": null,
            "grid_gap": null,
            "grid_row": null,
            "grid_template_areas": null,
            "grid_template_columns": null,
            "grid_template_rows": null,
            "height": null,
            "justify_content": null,
            "justify_items": null,
            "left": null,
            "margin": null,
            "max_height": null,
            "max_width": null,
            "min_height": null,
            "min_width": null,
            "object_fit": null,
            "object_position": null,
            "order": null,
            "overflow": null,
            "overflow_x": null,
            "overflow_y": null,
            "padding": null,
            "right": null,
            "top": null,
            "visibility": null,
            "width": null
          }
        },
        "c1ee8edb429b41dc86c35559cb456b37": {
          "model_module": "@jupyter-widgets/base",
          "model_module_version": "1.2.0",
          "model_name": "LayoutModel",
          "state": {
            "_model_module": "@jupyter-widgets/base",
            "_model_module_version": "1.2.0",
            "_model_name": "LayoutModel",
            "_view_count": null,
            "_view_module": "@jupyter-widgets/base",
            "_view_module_version": "1.2.0",
            "_view_name": "LayoutView",
            "align_content": null,
            "align_items": null,
            "align_self": null,
            "border": null,
            "bottom": null,
            "display": null,
            "flex": null,
            "flex_flow": null,
            "grid_area": null,
            "grid_auto_columns": null,
            "grid_auto_flow": null,
            "grid_auto_rows": null,
            "grid_column": null,
            "grid_gap": null,
            "grid_row": null,
            "grid_template_areas": null,
            "grid_template_columns": null,
            "grid_template_rows": null,
            "height": null,
            "justify_content": null,
            "justify_items": null,
            "left": null,
            "margin": null,
            "max_height": null,
            "max_width": null,
            "min_height": null,
            "min_width": null,
            "object_fit": null,
            "object_position": null,
            "order": null,
            "overflow": null,
            "overflow_x": null,
            "overflow_y": null,
            "padding": null,
            "right": null,
            "top": null,
            "visibility": null,
            "width": null
          }
        },
        "c23b2aebba1f4ea8887a3217ced8082b": {
          "model_module": "@jupyter-widgets/base",
          "model_module_version": "1.2.0",
          "model_name": "LayoutModel",
          "state": {
            "_model_module": "@jupyter-widgets/base",
            "_model_module_version": "1.2.0",
            "_model_name": "LayoutModel",
            "_view_count": null,
            "_view_module": "@jupyter-widgets/base",
            "_view_module_version": "1.2.0",
            "_view_name": "LayoutView",
            "align_content": null,
            "align_items": null,
            "align_self": null,
            "border": null,
            "bottom": null,
            "display": null,
            "flex": null,
            "flex_flow": null,
            "grid_area": null,
            "grid_auto_columns": null,
            "grid_auto_flow": null,
            "grid_auto_rows": null,
            "grid_column": null,
            "grid_gap": null,
            "grid_row": null,
            "grid_template_areas": null,
            "grid_template_columns": null,
            "grid_template_rows": null,
            "height": null,
            "justify_content": null,
            "justify_items": null,
            "left": null,
            "margin": null,
            "max_height": null,
            "max_width": null,
            "min_height": null,
            "min_width": null,
            "object_fit": null,
            "object_position": null,
            "order": null,
            "overflow": null,
            "overflow_x": null,
            "overflow_y": null,
            "padding": null,
            "right": null,
            "top": null,
            "visibility": null,
            "width": null
          }
        },
        "c27ce477fbe84ef5a4bf828c1d3d65be": {
          "model_module": "@jupyter-widgets/controls",
          "model_module_version": "1.5.0",
          "model_name": "HTMLModel",
          "state": {
            "_dom_classes": [],
            "_model_module": "@jupyter-widgets/controls",
            "_model_module_version": "1.5.0",
            "_model_name": "HTMLModel",
            "_view_count": null,
            "_view_module": "@jupyter-widgets/controls",
            "_view_module_version": "1.5.0",
            "_view_name": "HTMLView",
            "description": "",
            "description_tooltip": null,
            "layout": "IPY_MODEL_4965699efc574e6c9568026f20fb9c62",
            "placeholder": "​",
            "style": "IPY_MODEL_a59bbf2127db43bbb50d2372dd59d7f0",
            "value": " 899k/? [00:00&lt;00:00, 6.53MB/s]"
          }
        },
        "c295e1a00d01470d9c91cbb23c70b82d": {
          "model_module": "@jupyter-widgets/controls",
          "model_module_version": "1.5.0",
          "model_name": "HTMLModel",
          "state": {
            "_dom_classes": [],
            "_model_module": "@jupyter-widgets/controls",
            "_model_module_version": "1.5.0",
            "_model_name": "HTMLModel",
            "_view_count": null,
            "_view_module": "@jupyter-widgets/controls",
            "_view_module_version": "1.5.0",
            "_view_name": "HTMLView",
            "description": "",
            "description_tooltip": null,
            "layout": "IPY_MODEL_d3baadd4d0f84bf5af4a2904f5f30883",
            "placeholder": "​",
            "style": "IPY_MODEL_8fe7a4905fff4a94b408302dc943cd91",
            "value": "vocab.json: "
          }
        },
        "c816b266184249c5b33cf7165d0a9c5b": {
          "model_module": "@jupyter-widgets/controls",
          "model_module_version": "1.5.0",
          "model_name": "HTMLModel",
          "state": {
            "_dom_classes": [],
            "_model_module": "@jupyter-widgets/controls",
            "_model_module_version": "1.5.0",
            "_model_name": "HTMLModel",
            "_view_count": null,
            "_view_module": "@jupyter-widgets/controls",
            "_view_module_version": "1.5.0",
            "_view_name": "HTMLView",
            "description": "",
            "description_tooltip": null,
            "layout": "IPY_MODEL_bf358f276edf4577a0779c75a64f4d76",
            "placeholder": "​",
            "style": "IPY_MODEL_2e1a1e06c1c14cc1bc2b5c98ffe91fd8",
            "value": " 150/150 [00:00&lt;00:00, 2.38kB/s]"
          }
        },
        "ccc506367ce34c009255d19c0d0fd3e6": {
          "model_module": "@jupyter-widgets/base",
          "model_module_version": "1.2.0",
          "model_name": "LayoutModel",
          "state": {
            "_model_module": "@jupyter-widgets/base",
            "_model_module_version": "1.2.0",
            "_model_name": "LayoutModel",
            "_view_count": null,
            "_view_module": "@jupyter-widgets/base",
            "_view_module_version": "1.2.0",
            "_view_name": "LayoutView",
            "align_content": null,
            "align_items": null,
            "align_self": null,
            "border": null,
            "bottom": null,
            "display": null,
            "flex": null,
            "flex_flow": null,
            "grid_area": null,
            "grid_auto_columns": null,
            "grid_auto_flow": null,
            "grid_auto_rows": null,
            "grid_column": null,
            "grid_gap": null,
            "grid_row": null,
            "grid_template_areas": null,
            "grid_template_columns": null,
            "grid_template_rows": null,
            "height": null,
            "justify_content": null,
            "justify_items": null,
            "left": null,
            "margin": null,
            "max_height": null,
            "max_width": null,
            "min_height": null,
            "min_width": null,
            "object_fit": null,
            "object_position": null,
            "order": null,
            "overflow": null,
            "overflow_x": null,
            "overflow_y": null,
            "padding": null,
            "right": null,
            "top": null,
            "visibility": null,
            "width": null
          }
        },
        "cd903d7815624b13a1db31b02c6d3b70": {
          "model_module": "@jupyter-widgets/base",
          "model_module_version": "1.2.0",
          "model_name": "LayoutModel",
          "state": {
            "_model_module": "@jupyter-widgets/base",
            "_model_module_version": "1.2.0",
            "_model_name": "LayoutModel",
            "_view_count": null,
            "_view_module": "@jupyter-widgets/base",
            "_view_module_version": "1.2.0",
            "_view_name": "LayoutView",
            "align_content": null,
            "align_items": null,
            "align_self": null,
            "border": null,
            "bottom": null,
            "display": null,
            "flex": null,
            "flex_flow": null,
            "grid_area": null,
            "grid_auto_columns": null,
            "grid_auto_flow": null,
            "grid_auto_rows": null,
            "grid_column": null,
            "grid_gap": null,
            "grid_row": null,
            "grid_template_areas": null,
            "grid_template_columns": null,
            "grid_template_rows": null,
            "height": null,
            "justify_content": null,
            "justify_items": null,
            "left": null,
            "margin": null,
            "max_height": null,
            "max_width": null,
            "min_height": null,
            "min_width": null,
            "object_fit": null,
            "object_position": null,
            "order": null,
            "overflow": null,
            "overflow_x": null,
            "overflow_y": null,
            "padding": null,
            "right": null,
            "top": null,
            "visibility": null,
            "width": null
          }
        },
        "d3baadd4d0f84bf5af4a2904f5f30883": {
          "model_module": "@jupyter-widgets/base",
          "model_module_version": "1.2.0",
          "model_name": "LayoutModel",
          "state": {
            "_model_module": "@jupyter-widgets/base",
            "_model_module_version": "1.2.0",
            "_model_name": "LayoutModel",
            "_view_count": null,
            "_view_module": "@jupyter-widgets/base",
            "_view_module_version": "1.2.0",
            "_view_name": "LayoutView",
            "align_content": null,
            "align_items": null,
            "align_self": null,
            "border": null,
            "bottom": null,
            "display": null,
            "flex": null,
            "flex_flow": null,
            "grid_area": null,
            "grid_auto_columns": null,
            "grid_auto_flow": null,
            "grid_auto_rows": null,
            "grid_column": null,
            "grid_gap": null,
            "grid_row": null,
            "grid_template_areas": null,
            "grid_template_columns": null,
            "grid_template_rows": null,
            "height": null,
            "justify_content": null,
            "justify_items": null,
            "left": null,
            "margin": null,
            "max_height": null,
            "max_width": null,
            "min_height": null,
            "min_width": null,
            "object_fit": null,
            "object_position": null,
            "order": null,
            "overflow": null,
            "overflow_x": null,
            "overflow_y": null,
            "padding": null,
            "right": null,
            "top": null,
            "visibility": null,
            "width": null
          }
        },
        "da16e23c08ca44e69066adb2e7256eba": {
          "model_module": "@jupyter-widgets/controls",
          "model_module_version": "1.5.0",
          "model_name": "FloatProgressModel",
          "state": {
            "_dom_classes": [],
            "_model_module": "@jupyter-widgets/controls",
            "_model_module_version": "1.5.0",
            "_model_name": "FloatProgressModel",
            "_view_count": null,
            "_view_module": "@jupyter-widgets/controls",
            "_view_module_version": "1.5.0",
            "_view_name": "ProgressView",
            "bar_style": "success",
            "description": "",
            "description_tooltip": null,
            "layout": "IPY_MODEL_4bfe67b5078c44bcafc08fa6e5df8003",
            "max": 498620100,
            "min": 0,
            "orientation": "horizontal",
            "style": "IPY_MODEL_7e9eb9e8bd074adab52995a2a3768f9e",
            "value": 498620100
          }
        },
        "da3920e59eb448f6b719645e9063d05c": {
          "model_module": "@jupyter-widgets/controls",
          "model_module_version": "1.5.0",
          "model_name": "DescriptionStyleModel",
          "state": {
            "_model_module": "@jupyter-widgets/controls",
            "_model_module_version": "1.5.0",
            "_model_name": "DescriptionStyleModel",
            "_view_count": null,
            "_view_module": "@jupyter-widgets/base",
            "_view_module_version": "1.2.0",
            "_view_name": "StyleView",
            "description_width": ""
          }
        },
        "ee59d83e07fb4a33b0f086a4b25b4415": {
          "model_module": "@jupyter-widgets/controls",
          "model_module_version": "1.5.0",
          "model_name": "DescriptionStyleModel",
          "state": {
            "_model_module": "@jupyter-widgets/controls",
            "_model_module_version": "1.5.0",
            "_model_name": "DescriptionStyleModel",
            "_view_count": null,
            "_view_module": "@jupyter-widgets/base",
            "_view_module_version": "1.2.0",
            "_view_name": "StyleView",
            "description_width": ""
          }
        },
        "efb75a0ebb3c4fd59537711f4527e282": {
          "model_module": "@jupyter-widgets/controls",
          "model_module_version": "1.5.0",
          "model_name": "HTMLModel",
          "state": {
            "_dom_classes": [],
            "_model_module": "@jupyter-widgets/controls",
            "_model_module_version": "1.5.0",
            "_model_name": "HTMLModel",
            "_view_count": null,
            "_view_module": "@jupyter-widgets/controls",
            "_view_module_version": "1.5.0",
            "_view_name": "HTMLView",
            "description": "",
            "description_tooltip": null,
            "layout": "IPY_MODEL_38c1bbe0729f44b5ae8a75c56bababca",
            "placeholder": "​",
            "style": "IPY_MODEL_13dcd28050754ac98f947872f9515915",
            "value": "pytorch_model.bin: 100%"
          }
        }
      }
    }
  },
  "nbformat": 4,
  "nbformat_minor": 0
}
